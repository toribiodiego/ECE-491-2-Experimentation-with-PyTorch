{
  "cells": [
    {
      "cell_type": "code",
      "source": [
        "# Pin NumPy to a version compatible with datasets\n",
        "!pip install numpy==1.23.5 --quiet\n",
        "\n",
        "# Now restart the Python runtime so that the old, incompatible NumPy is unloaded\n",
        "import os\n",
        "os.kill(os.getpid(), 9)"
      ],
      "metadata": {
        "id": "tmtX0A8ts_3s"
      },
      "execution_count": null,
      "outputs": []
    },
    {
      "cell_type": "code",
      "execution_count": 1,
      "metadata": {
        "collapsed": true,
        "id": "n17CtydqmrFs"
      },
      "outputs": [],
      "source": [
        "!pip install transformers datasets evaluate timm captum wandb --quiet"
      ]
    },
    {
      "cell_type": "code",
      "execution_count": 3,
      "metadata": {
        "id": "PSX-17sA4dXN"
      },
      "outputs": [],
      "source": [
        "import os\n",
        "# 1) Early opt‑out for the env var\n",
        "os.environ[\"HF_DATASETS_DISABLE_PROGRESS_BARS\"] = \"1\"\n",
        "\n",
        "import random\n",
        "import torch\n",
        "import numpy as np\n",
        "from datasets import load_dataset\n",
        "from torch.utils.data import DataLoader\n",
        "from torchvision import transforms\n",
        "from PIL import Image\n",
        "from io import BytesIO\n",
        "import torch.nn as nn\n",
        "from transformers import get_cosine_schedule_with_warmup\n",
        "import timm\n",
        "from torch.optim import AdamW\n",
        "from tabulate import tabulate\n",
        "\n",
        "# 1) Fix seeds\n",
        "seed = 42\n",
        "random.seed(seed)\n",
        "np.random.seed(seed)\n",
        "torch.manual_seed(seed)\n",
        "torch.cuda.manual_seed_all(seed)\n",
        "\n",
        "# config\n",
        "config = {\n",
        "    \"dataset_name\":     \"cifar100\",\n",
        "    \"num_labels\":       100,\n",
        "    \"train_frac\":       0.80,\n",
        "    \"val_frac\":         0.10,\n",
        "    \"holdout_frac\":     0.10,\n",
        "    \"batch_size_train\": 128,\n",
        "    \"batch_size_val\":   256,\n",
        "    \"max_epochs\":       25,\n",
        "    \"patience\":         5,\n",
        "    \"warmup_epochs\":    3,\n",
        "    \"output_dir\":       \"./vit-cifar100-checkpoints\",\n",
        "    \"sweep_variants\": [\n",
        "        {\"name\": \"A\", \"lr\": 5e-5, \"weight_decay\": 0.05},\n",
        "        {\"name\": \"B\", \"lr\": 1e-4, \"weight_decay\": 0.02},\n",
        "        {\"name\": \"C\", \"lr\": 3e-5, \"weight_decay\": 0.10},\n",
        "    ],\n",
        "}\n",
        "os.makedirs(config[\"output_dir\"], exist_ok=True)\n",
        "\n",
        "device = torch.device(\"cuda\" if torch.cuda.is_available() else \"cpu\")"
      ]
    },
    {
      "cell_type": "markdown",
      "source": [
        "### helper functions"
      ],
      "metadata": {
        "id": "kqYWis9QfwMk"
      }
    },
    {
      "cell_type": "code",
      "source": [
        "def print_heading(kind: str, number: int, description: str):\n",
        "    label = f\"{kind} {number}\"\n",
        "    print(f\"\\n\\033[1m{label}\\033[0m. {description}\")"
      ],
      "metadata": {
        "id": "MuTNoP64fvpR"
      },
      "execution_count": 4,
      "outputs": []
    },
    {
      "cell_type": "markdown",
      "source": [
        "### Loading in CIFAR-100"
      ],
      "metadata": {
        "id": "LFhyJYADf2Pl"
      }
    },
    {
      "cell_type": "code",
      "execution_count": 9,
      "metadata": {
        "colab": {
          "base_uri": "https://localhost:8080/"
        },
        "id": "4kJRlRvXm2Jg",
        "outputId": "31e57de6-af5e-408d-fb8e-99022a5e2749"
      },
      "outputs": [
        {
          "output_type": "stream",
          "name": "stderr",
          "text": [
            "\rPreprocessing train:  28%|██▊       | 11/40 [07:24<19:32, 40.42s/batch]\n"
          ]
        },
        {
          "output_type": "stream",
          "name": "stdout",
          "text": [
            "Loaded data ⇒ Train: 40000, Val: 5000, Holdout: 5000\n"
          ]
        }
      ],
      "source": [
        "import os\n",
        "import warnings\n",
        "import torch\n",
        "import torch.nn as nn\n",
        "import timm\n",
        "from torch.optim import AdamW\n",
        "from transformers import get_cosine_schedule_with_warmup\n",
        "from datasets import load_dataset, logging as hf_logging, disable_progress_bar\n",
        "from torchvision import transforms\n",
        "from torch.utils.data import DataLoader\n",
        "from PIL import Image\n",
        "from io import BytesIO\n",
        "from math import ceil\n",
        "\n",
        "# ─── 0) Silence HF and deprecation warnings ─────────────────────────────\n",
        "os.environ[\"HF_DATASETS_DISABLE_PROGRESS_BARS\"] = \"1\"\n",
        "hf_logging.set_verbosity_error()\n",
        "disable_progress_bar()\n",
        "warnings.filterwarnings(\"ignore\", category=FutureWarning)\n",
        "\n",
        "# ─── 1) Load & split the HuggingFace dataset ────────────────────────────\n",
        "ds = load_dataset(config[\"dataset_name\"])[\"train\"]\n",
        "split1   = ds.train_test_split(test_size=config[\"holdout_frac\"], seed=seed)\n",
        "tmp, hold = split1[\"train\"], split1[\"test\"]\n",
        "val_prop = config[\"val_frac\"] / (config[\"train_frac\"] + config[\"val_frac\"])\n",
        "split2   = tmp.train_test_split(test_size=val_prop, seed=seed)\n",
        "train_ds, val_ds, holdout_ds = split2[\"train\"], split2[\"test\"], hold\n",
        "\n",
        "# ─── 2) Define transforms & preprocess helper ───────────────────────────\n",
        "train_tf = transforms.Compose([\n",
        "    transforms.RandomResizedCrop(224),\n",
        "    transforms.RandomHorizontalFlip(),\n",
        "    transforms.ColorJitter(0.4,0.4,0.4,0.1),\n",
        "    transforms.ToTensor(),\n",
        "    transforms.Normalize((0.485,0.456,0.406),(0.229,0.224,0.225))\n",
        "])\n",
        "eval_tf = transforms.Compose([\n",
        "    transforms.Resize(256),\n",
        "    transforms.CenterCrop(224),\n",
        "    transforms.ToTensor(),\n",
        "    transforms.Normalize((0.485,0.456,0.406),(0.229,0.224,0.225))\n",
        "])\n",
        "\n",
        "def preprocess_batch(batch, train: bool):\n",
        "    imgs, labels = batch[\"img\"], batch[\"fine_label\"]\n",
        "    pxs, lbs = [], []\n",
        "    for img, lbl in zip(imgs, labels):\n",
        "        if isinstance(img, list):\n",
        "            img = img[0]\n",
        "        if not isinstance(img, Image.Image):\n",
        "            buf = img if isinstance(img, (bytes, bytearray)) else img.tobytes()\n",
        "            img = Image.open(BytesIO(buf)) if isinstance(buf, (bytes, bytearray)) else Image.fromarray(img)\n",
        "        pil = img.convert(\"RGB\")\n",
        "        transform = train_tf if train else eval_tf\n",
        "        pxs.append(transform(pil))\n",
        "        lbs.append(lbl)\n",
        "    return {\"pixel_values\": pxs, \"labels\": lbs}\n",
        "\n",
        "batch_size = 1000\n",
        "\n",
        "# preprocess splits\n",
        "train_ds   = train_ds.map(\n",
        "    lambda b: preprocess_batch(b, train=True),\n",
        "    batched=True, batch_size=batch_size, remove_columns=[\"img\"], num_proc=1\n",
        ")\n",
        "val_ds     = val_ds.map(\n",
        "    lambda b: preprocess_batch(b, train=False),\n",
        "    batched=True, batch_size=batch_size, remove_columns=[\"img\"], num_proc=1\n",
        ")\n",
        "holdout_ds = holdout_ds.map(\n",
        "    lambda b: preprocess_batch(b, train=False),\n",
        "    batched=True, batch_size=batch_size, remove_columns=[\"img\"], num_proc=1\n",
        ")\n",
        "\n",
        "# build DataLoaders\n",
        "for ds_ in (train_ds, val_ds, holdout_ds):\n",
        "    ds_.set_format(type=\"torch\", columns=[\"pixel_values\", \"labels\"])\n",
        "\n",
        "num_workers = max(1, os.cpu_count() - 1)\n",
        "train_loader   = DataLoader(train_ds,   batch_size=config[\"batch_size_train\"],\n",
        "                            shuffle=True,  num_workers=num_workers, pin_memory=True)\n",
        "val_loader     = DataLoader(val_ds,     batch_size=config[\"batch_size_val\"],\n",
        "                            shuffle=False, num_workers=num_workers, pin_memory=True)\n",
        "holdout_loader = DataLoader(holdout_ds, batch_size=config[\"batch_size_val\"],\n",
        "                            shuffle=False, num_workers=num_workers, pin_memory=True)\n",
        "\n",
        "# summary print-out\n",
        "print(f\"Loaded data ⇒ Train: {len(train_ds)}, Val: {len(val_ds)}, Holdout: {len(holdout_ds)}\")"
      ]
    },
    {
      "cell_type": "markdown",
      "metadata": {
        "id": "ugZlOLFb1DNq"
      },
      "source": [
        "## 1 - Fine-tuning"
      ]
    },
    {
      "cell_type": "code",
      "execution_count": 12,
      "metadata": {
        "collapsed": true,
        "id": "uNlHSvB93jSd",
        "colab": {
          "base_uri": "https://localhost:8080/",
          "height": 1000
        },
        "outputId": "649be2c4-5cbf-4882-b3c1-3579e07a452b"
      },
      "outputs": [
        {
          "output_type": "stream",
          "name": "stderr",
          "text": [
            "\u001b[34m\u001b[1mwandb\u001b[0m: \u001b[33mWARNING\u001b[0m Calling wandb.login() after wandb.init() has no effect.\n"
          ]
        },
        {
          "output_type": "display_data",
          "data": {
            "text/plain": [
              "<IPython.core.display.HTML object>"
            ],
            "text/html": [
              "Finishing previous runs because reinit is set to True."
            ]
          },
          "metadata": {}
        },
        {
          "output_type": "display_data",
          "data": {
            "text/plain": [
              "<IPython.core.display.HTML object>"
            ],
            "text/html": []
          },
          "metadata": {}
        },
        {
          "output_type": "display_data",
          "data": {
            "text/plain": [
              "<IPython.core.display.HTML object>"
            ],
            "text/html": [
              "<br>    <style><br>        .wandb-row {<br>            display: flex;<br>            flex-direction: row;<br>            flex-wrap: wrap;<br>            justify-content: flex-start;<br>            width: 100%;<br>        }<br>        .wandb-col {<br>            display: flex;<br>            flex-direction: column;<br>            flex-basis: 100%;<br>            flex: 1;<br>            padding: 10px;<br>        }<br>    </style><br><div class=\"wandb-row\"><div class=\"wandb-col\"><h3>Run history:</h3><br/><table class=\"wandb\"><tr><td>epoch</td><td>▁█</td></tr><tr><td>train_loss</td><td>█▁</td></tr><tr><td>val_acc</td><td>▁█</td></tr></table><br/></div><div class=\"wandb-col\"><h3>Run summary:</h3><br/><table class=\"wandb\"><tr><td>best_val_acc</td><td>0.8656</td></tr><tr><td>epoch</td><td>2</td></tr><tr><td>train_loss</td><td>0.95046</td></tr><tr><td>val_acc</td><td>0.8656</td></tr></table><br/></div></div>"
            ]
          },
          "metadata": {}
        },
        {
          "output_type": "display_data",
          "data": {
            "text/plain": [
              "<IPython.core.display.HTML object>"
            ],
            "text/html": [
              " View run <strong style=\"color:#cdcd00\">ViT-LN-B</strong> at: <a href='https://wandb.ai/Cooper-Union/vit-cifar100/runs/9g9pzyjx' target=\"_blank\">https://wandb.ai/Cooper-Union/vit-cifar100/runs/9g9pzyjx</a><br> View project at: <a href='https://wandb.ai/Cooper-Union/vit-cifar100' target=\"_blank\">https://wandb.ai/Cooper-Union/vit-cifar100</a><br>Synced 5 W&B file(s), 0 media file(s), 0 artifact file(s) and 1 other file(s)"
            ]
          },
          "metadata": {}
        },
        {
          "output_type": "display_data",
          "data": {
            "text/plain": [
              "<IPython.core.display.HTML object>"
            ],
            "text/html": [
              "Find logs at: <code>./wandb/run-20250511_231720-9g9pzyjx/logs</code>"
            ]
          },
          "metadata": {}
        },
        {
          "output_type": "display_data",
          "data": {
            "text/plain": [
              "<IPython.core.display.HTML object>"
            ],
            "text/html": [
              "Tracking run with wandb version 0.19.10"
            ]
          },
          "metadata": {}
        },
        {
          "output_type": "display_data",
          "data": {
            "text/plain": [
              "<IPython.core.display.HTML object>"
            ],
            "text/html": [
              "Run data is saved locally in <code>/content/wandb/run-20250511_233246-ldl3oeir</code>"
            ]
          },
          "metadata": {}
        },
        {
          "output_type": "display_data",
          "data": {
            "text/plain": [
              "<IPython.core.display.HTML object>"
            ],
            "text/html": [
              "Syncing run <strong><a href='https://wandb.ai/Cooper-Union/vit-cifar100/runs/ldl3oeir' target=\"_blank\">ViT-LN-A</a></strong> to <a href='https://wandb.ai/Cooper-Union/vit-cifar100' target=\"_blank\">Weights & Biases</a> (<a href='https://wandb.me/developer-guide' target=\"_blank\">docs</a>)<br>"
            ]
          },
          "metadata": {}
        },
        {
          "output_type": "display_data",
          "data": {
            "text/plain": [
              "<IPython.core.display.HTML object>"
            ],
            "text/html": [
              " View project at <a href='https://wandb.ai/Cooper-Union/vit-cifar100' target=\"_blank\">https://wandb.ai/Cooper-Union/vit-cifar100</a>"
            ]
          },
          "metadata": {}
        },
        {
          "output_type": "display_data",
          "data": {
            "text/plain": [
              "<IPython.core.display.HTML object>"
            ],
            "text/html": [
              " View run at <a href='https://wandb.ai/Cooper-Union/vit-cifar100/runs/ldl3oeir' target=\"_blank\">https://wandb.ai/Cooper-Union/vit-cifar100/runs/ldl3oeir</a>"
            ]
          },
          "metadata": {}
        },
        {
          "output_type": "stream",
          "name": "stdout",
          "text": [
            "Early stopping triggered.\n",
            "Variant A done. Best Val Acc = 0.8838\n"
          ]
        },
        {
          "output_type": "display_data",
          "data": {
            "text/plain": [
              "<IPython.core.display.HTML object>"
            ],
            "text/html": []
          },
          "metadata": {}
        },
        {
          "output_type": "display_data",
          "data": {
            "text/plain": [
              "<IPython.core.display.HTML object>"
            ],
            "text/html": [
              "<br>    <style><br>        .wandb-row {<br>            display: flex;<br>            flex-direction: row;<br>            flex-wrap: wrap;<br>            justify-content: flex-start;<br>            width: 100%;<br>        }<br>        .wandb-col {<br>            display: flex;<br>            flex-direction: column;<br>            flex-basis: 100%;<br>            flex: 1;<br>            padding: 10px;<br>        }<br>    </style><br><div class=\"wandb-row\"><div class=\"wandb-col\"><h3>Run history:</h3><br/><table class=\"wandb\"><tr><td>epoch</td><td>▁▂▂▃▄▅▅▆▇▇█</td></tr><tr><td>train_loss</td><td>█▃▂▂▁▁▁▁▁▁▁</td></tr><tr><td>val_acc</td><td>▁▇▆▇██▇▆▆▆▇</td></tr></table><br/></div><div class=\"wandb-col\"><h3>Run summary:</h3><br/><table class=\"wandb\"><tr><td>best_val_acc</td><td>0.8838</td></tr><tr><td>epoch</td><td>11</td></tr><tr><td>train_loss</td><td>0.03485</td></tr><tr><td>val_acc</td><td>0.8774</td></tr></table><br/></div></div>"
            ]
          },
          "metadata": {}
        },
        {
          "output_type": "display_data",
          "data": {
            "text/plain": [
              "<IPython.core.display.HTML object>"
            ],
            "text/html": [
              " View run <strong style=\"color:#cdcd00\">ViT-LN-A</strong> at: <a href='https://wandb.ai/Cooper-Union/vit-cifar100/runs/ldl3oeir' target=\"_blank\">https://wandb.ai/Cooper-Union/vit-cifar100/runs/ldl3oeir</a><br> View project at: <a href='https://wandb.ai/Cooper-Union/vit-cifar100' target=\"_blank\">https://wandb.ai/Cooper-Union/vit-cifar100</a><br>Synced 5 W&B file(s), 0 media file(s), 0 artifact file(s) and 1 other file(s)"
            ]
          },
          "metadata": {}
        },
        {
          "output_type": "display_data",
          "data": {
            "text/plain": [
              "<IPython.core.display.HTML object>"
            ],
            "text/html": [
              "Find logs at: <code>./wandb/run-20250511_233246-ldl3oeir/logs</code>"
            ]
          },
          "metadata": {}
        },
        {
          "output_type": "display_data",
          "data": {
            "text/plain": [
              "<IPython.core.display.HTML object>"
            ],
            "text/html": [
              "Tracking run with wandb version 0.19.10"
            ]
          },
          "metadata": {}
        },
        {
          "output_type": "display_data",
          "data": {
            "text/plain": [
              "<IPython.core.display.HTML object>"
            ],
            "text/html": [
              "Run data is saved locally in <code>/content/wandb/run-20250511_235257-51tb8yrx</code>"
            ]
          },
          "metadata": {}
        },
        {
          "output_type": "display_data",
          "data": {
            "text/plain": [
              "<IPython.core.display.HTML object>"
            ],
            "text/html": [
              "Syncing run <strong><a href='https://wandb.ai/Cooper-Union/vit-cifar100/runs/51tb8yrx' target=\"_blank\">ViT-LN-B</a></strong> to <a href='https://wandb.ai/Cooper-Union/vit-cifar100' target=\"_blank\">Weights & Biases</a> (<a href='https://wandb.me/developer-guide' target=\"_blank\">docs</a>)<br>"
            ]
          },
          "metadata": {}
        },
        {
          "output_type": "display_data",
          "data": {
            "text/plain": [
              "<IPython.core.display.HTML object>"
            ],
            "text/html": [
              " View project at <a href='https://wandb.ai/Cooper-Union/vit-cifar100' target=\"_blank\">https://wandb.ai/Cooper-Union/vit-cifar100</a>"
            ]
          },
          "metadata": {}
        },
        {
          "output_type": "display_data",
          "data": {
            "text/plain": [
              "<IPython.core.display.HTML object>"
            ],
            "text/html": [
              " View run at <a href='https://wandb.ai/Cooper-Union/vit-cifar100/runs/51tb8yrx' target=\"_blank\">https://wandb.ai/Cooper-Union/vit-cifar100/runs/51tb8yrx</a>"
            ]
          },
          "metadata": {}
        },
        {
          "output_type": "stream",
          "name": "stdout",
          "text": [
            "Early stopping triggered.\n",
            "Variant B done. Best Val Acc = 0.8642\n"
          ]
        },
        {
          "output_type": "display_data",
          "data": {
            "text/plain": [
              "<IPython.core.display.HTML object>"
            ],
            "text/html": []
          },
          "metadata": {}
        },
        {
          "output_type": "display_data",
          "data": {
            "text/plain": [
              "<IPython.core.display.HTML object>"
            ],
            "text/html": [
              "<br>    <style><br>        .wandb-row {<br>            display: flex;<br>            flex-direction: row;<br>            flex-wrap: wrap;<br>            justify-content: flex-start;<br>            width: 100%;<br>        }<br>        .wandb-col {<br>            display: flex;<br>            flex-direction: column;<br>            flex-basis: 100%;<br>            flex: 1;<br>            padding: 10px;<br>        }<br>    </style><br><div class=\"wandb-row\"><div class=\"wandb-col\"><h3>Run history:</h3><br/><table class=\"wandb\"><tr><td>epoch</td><td>▁▂▃▅▆▇█</td></tr><tr><td>train_loss</td><td>█▃▃▂▂▁▁</td></tr><tr><td>val_acc</td><td>▅█▂▂▁▄▁</td></tr></table><br/></div><div class=\"wandb-col\"><h3>Run summary:</h3><br/><table class=\"wandb\"><tr><td>best_val_acc</td><td>0.8642</td></tr><tr><td>epoch</td><td>7</td></tr><tr><td>train_loss</td><td>0.16128</td></tr><tr><td>val_acc</td><td>0.8384</td></tr></table><br/></div></div>"
            ]
          },
          "metadata": {}
        },
        {
          "output_type": "display_data",
          "data": {
            "text/plain": [
              "<IPython.core.display.HTML object>"
            ],
            "text/html": [
              " View run <strong style=\"color:#cdcd00\">ViT-LN-B</strong> at: <a href='https://wandb.ai/Cooper-Union/vit-cifar100/runs/51tb8yrx' target=\"_blank\">https://wandb.ai/Cooper-Union/vit-cifar100/runs/51tb8yrx</a><br> View project at: <a href='https://wandb.ai/Cooper-Union/vit-cifar100' target=\"_blank\">https://wandb.ai/Cooper-Union/vit-cifar100</a><br>Synced 5 W&B file(s), 0 media file(s), 0 artifact file(s) and 1 other file(s)"
            ]
          },
          "metadata": {}
        },
        {
          "output_type": "display_data",
          "data": {
            "text/plain": [
              "<IPython.core.display.HTML object>"
            ],
            "text/html": [
              "Find logs at: <code>./wandb/run-20250511_235257-51tb8yrx/logs</code>"
            ]
          },
          "metadata": {}
        },
        {
          "output_type": "display_data",
          "data": {
            "text/plain": [
              "<IPython.core.display.HTML object>"
            ],
            "text/html": [
              "Tracking run with wandb version 0.19.10"
            ]
          },
          "metadata": {}
        },
        {
          "output_type": "display_data",
          "data": {
            "text/plain": [
              "<IPython.core.display.HTML object>"
            ],
            "text/html": [
              "Run data is saved locally in <code>/content/wandb/run-20250512_000544-lnw1z8lb</code>"
            ]
          },
          "metadata": {}
        },
        {
          "output_type": "display_data",
          "data": {
            "text/plain": [
              "<IPython.core.display.HTML object>"
            ],
            "text/html": [
              "Syncing run <strong><a href='https://wandb.ai/Cooper-Union/vit-cifar100/runs/lnw1z8lb' target=\"_blank\">ViT-LN-C</a></strong> to <a href='https://wandb.ai/Cooper-Union/vit-cifar100' target=\"_blank\">Weights & Biases</a> (<a href='https://wandb.me/developer-guide' target=\"_blank\">docs</a>)<br>"
            ]
          },
          "metadata": {}
        },
        {
          "output_type": "display_data",
          "data": {
            "text/plain": [
              "<IPython.core.display.HTML object>"
            ],
            "text/html": [
              " View project at <a href='https://wandb.ai/Cooper-Union/vit-cifar100' target=\"_blank\">https://wandb.ai/Cooper-Union/vit-cifar100</a>"
            ]
          },
          "metadata": {}
        },
        {
          "output_type": "display_data",
          "data": {
            "text/plain": [
              "<IPython.core.display.HTML object>"
            ],
            "text/html": [
              " View run at <a href='https://wandb.ai/Cooper-Union/vit-cifar100/runs/lnw1z8lb' target=\"_blank\">https://wandb.ai/Cooper-Union/vit-cifar100/runs/lnw1z8lb</a>"
            ]
          },
          "metadata": {}
        },
        {
          "output_type": "stream",
          "name": "stdout",
          "text": [
            "Early stopping triggered.\n",
            "Variant C done. Best Val Acc = 0.9022\n"
          ]
        },
        {
          "output_type": "display_data",
          "data": {
            "text/plain": [
              "<IPython.core.display.HTML object>"
            ],
            "text/html": []
          },
          "metadata": {}
        },
        {
          "output_type": "display_data",
          "data": {
            "text/plain": [
              "<IPython.core.display.HTML object>"
            ],
            "text/html": [
              "<br>    <style><br>        .wandb-row {<br>            display: flex;<br>            flex-direction: row;<br>            flex-wrap: wrap;<br>            justify-content: flex-start;<br>            width: 100%;<br>        }<br>        .wandb-col {<br>            display: flex;<br>            flex-direction: column;<br>            flex-basis: 100%;<br>            flex: 1;<br>            padding: 10px;<br>        }<br>    </style><br><div class=\"wandb-row\"><div class=\"wandb-col\"><h3>Run history:</h3><br/><table class=\"wandb\"><tr><td>epoch</td><td>▁▂▂▃▃▄▄▅▅▆▆▇▇█</td></tr><tr><td>train_loss</td><td>█▃▂▂▁▁▁▁▁▁▁▁▁▁</td></tr><tr><td>val_acc</td><td>▁▇▆▇▇▇████▇▇▇▇</td></tr></table><br/></div><div class=\"wandb-col\"><h3>Run summary:</h3><br/><table class=\"wandb\"><tr><td>best_val_acc</td><td>0.9022</td></tr><tr><td>epoch</td><td>14</td></tr><tr><td>train_loss</td><td>0.00843</td></tr><tr><td>val_acc</td><td>0.894</td></tr></table><br/></div></div>"
            ]
          },
          "metadata": {}
        },
        {
          "output_type": "display_data",
          "data": {
            "text/plain": [
              "<IPython.core.display.HTML object>"
            ],
            "text/html": [
              " View run <strong style=\"color:#cdcd00\">ViT-LN-C</strong> at: <a href='https://wandb.ai/Cooper-Union/vit-cifar100/runs/lnw1z8lb' target=\"_blank\">https://wandb.ai/Cooper-Union/vit-cifar100/runs/lnw1z8lb</a><br> View project at: <a href='https://wandb.ai/Cooper-Union/vit-cifar100' target=\"_blank\">https://wandb.ai/Cooper-Union/vit-cifar100</a><br>Synced 5 W&B file(s), 0 media file(s), 0 artifact file(s) and 1 other file(s)"
            ]
          },
          "metadata": {}
        },
        {
          "output_type": "display_data",
          "data": {
            "text/plain": [
              "<IPython.core.display.HTML object>"
            ],
            "text/html": [
              "Find logs at: <code>./wandb/run-20250512_000544-lnw1z8lb/logs</code>"
            ]
          },
          "metadata": {}
        }
      ],
      "source": [
        "import os\n",
        "import gc\n",
        "import torch\n",
        "import timm\n",
        "import wandb\n",
        "import torch.nn as nn\n",
        "from torch.optim import AdamW\n",
        "from transformers import get_cosine_schedule_with_warmup\n",
        "from google.colab import userdata\n",
        "\n",
        "# login to W&B\n",
        "os.environ[\"WANDB_API_KEY\"] = userdata.get(\"WANDB_API_KEY\")\n",
        "wandb.login()\n",
        "device = torch.device(\"cuda\" if torch.cuda.is_available() else \"cpu\")\n",
        "\n",
        "# sweep over variants\n",
        "for var in config[\"sweep_variants\"]:\n",
        "    # ensure a clean slate on the GPU\n",
        "    torch.cuda.empty_cache()\n",
        "    gc.collect()\n",
        "\n",
        "    run = wandb.init(\n",
        "        project=\"vit-cifar100\",\n",
        "        name=f\"ViT-LN-{var['name']}\",\n",
        "        config={**config, **var},\n",
        "        reinit=True\n",
        "    )\n",
        "\n",
        "    # build model + optimizer + scheduler\n",
        "    model = timm.create_model(\n",
        "        \"vit_base_patch16_224\",\n",
        "        pretrained=True,\n",
        "        num_classes=config[\"num_labels\"]\n",
        "    ).to(device)\n",
        "\n",
        "    optimizer = AdamW(model.parameters(), lr=var[\"lr\"], weight_decay=var[\"weight_decay\"])\n",
        "    criterion = nn.CrossEntropyLoss()\n",
        "    scaler    = torch.cuda.amp.GradScaler()\n",
        "\n",
        "    total_steps  = len(train_loader) * config[\"max_epochs\"]\n",
        "    warmup_steps = len(train_loader) * config[\"warmup_epochs\"]\n",
        "    scheduler    = get_cosine_schedule_with_warmup(\n",
        "        optimizer,\n",
        "        num_warmup_steps=warmup_steps,\n",
        "        num_training_steps=total_steps\n",
        "    )\n",
        "\n",
        "    best_val_acc, wait = 0.0, 0\n",
        "    ckpt_path = os.path.join(config[\"output_dir\"], f\"best_val_acc_{var['name']}.pt\")\n",
        "\n",
        "    for epoch in range(1, config[\"max_epochs\"] + 1):\n",
        "        # training\n",
        "        model.train()\n",
        "        running_loss = 0.0\n",
        "        for batch in train_loader:\n",
        "            imgs, labels = batch[\"pixel_values\"].to(device), batch[\"labels\"].to(device)\n",
        "            optimizer.zero_grad()\n",
        "            with torch.cuda.amp.autocast():\n",
        "                logits = model(imgs)\n",
        "                loss   = criterion(logits, labels)\n",
        "            scaler.scale(loss).backward()\n",
        "            scaler.step(optimizer)\n",
        "            scaler.update()\n",
        "            scheduler.step()\n",
        "            running_loss += loss.item()\n",
        "        avg_train_loss = running_loss / len(train_loader)\n",
        "\n",
        "        # validation (no grad, frees up memory)\n",
        "        model.eval()\n",
        "        correct = total = 0\n",
        "        with torch.no_grad():\n",
        "            for batch in val_loader:\n",
        "                imgs, labels = batch[\"pixel_values\"].to(device), batch[\"labels\"].to(device)\n",
        "                preds = model(imgs).argmax(dim=-1)\n",
        "                correct += (preds == labels).sum().item()\n",
        "                total   += labels.size(0)\n",
        "        val_acc = correct / total\n",
        "\n",
        "        # log to W&B\n",
        "        wandb.log({\n",
        "            \"epoch\": epoch,\n",
        "            \"train_loss\": avg_train_loss,\n",
        "            \"val_acc\":   val_acc\n",
        "        })\n",
        "\n",
        "        # early stopping & checkpoint\n",
        "        if val_acc > best_val_acc:\n",
        "            best_val_acc, wait = val_acc, 0\n",
        "            torch.save(model.state_dict(), ckpt_path)\n",
        "            wandb.run.summary[\"best_val_acc\"] = best_val_acc\n",
        "            wandb.save(ckpt_path)\n",
        "        else:\n",
        "            wait += 1\n",
        "            if wait >= config[\"patience\"]:\n",
        "                print(\"Early stopping triggered.\")\n",
        "                break\n",
        "\n",
        "    print(f\"Variant {var['name']} done. Best Val Acc = {best_val_acc:.4f}\")\n",
        "    run.finish()\n",
        "\n",
        "    # cleanup before next variant\n",
        "    del model, optimizer, scheduler\n",
        "    torch.cuda.empty_cache()\n",
        "    gc.collect()"
      ]
    },
    {
      "cell_type": "markdown",
      "metadata": {
        "id": "Lf6-UAFeJj-2"
      },
      "source": [
        "## 2 - Interpretability"
      ]
    },
    {
      "cell_type": "markdown",
      "source": [
        "### 2.1 - Attention Entropy"
      ],
      "metadata": {
        "id": "fEqbHHlPwgd6"
      }
    },
    {
      "cell_type": "code",
      "execution_count": 19,
      "metadata": {
        "colab": {
          "base_uri": "https://localhost:8080/",
          "height": 508
        },
        "id": "Ogfd3A6JFlC_",
        "outputId": "812dff2a-a1f6-487c-f13f-23fce3dd3193"
      },
      "outputs": [
        {
          "output_type": "display_data",
          "data": {
            "text/plain": [
              "<Figure size 800x500 with 1 Axes>"
            ],
            "image/png": "[encoded data removed]"
          },
          "metadata": {}
        }
      ],
      "source": [
        "import os\n",
        "import torch\n",
        "import torch.nn.functional as F\n",
        "import timm\n",
        "import numpy as np\n",
        "import matplotlib.pyplot as plt\n",
        "\n",
        "device = torch.device(\"cuda\" if torch.cuda.is_available() else \"cpu\")\n",
        "\n",
        "# ─── 1) Define variants and colors ────────────────────────────────────────\n",
        "variants = {\n",
        "    \"A\": {\"ckpt\": \"best_val_acc_A.pt\", \"color\": \"#FF0000\"},\n",
        "    \"B\": {\"ckpt\": \"best_val_acc_B.pt\", \"color\": \"#0000FF\"},\n",
        "    \"C\": {\"ckpt\": \"best_val_acc_C.pt\", \"color\": \"#00FF00\"},\n",
        "}\n",
        "\n",
        "# ─── 2) Hook maker: recompute softmax attention & accumulate entropy ────\n",
        "def make_entropy_hook(layer_idx, entropy_sum, sample_cnt, eps=1e-12):\n",
        "    def hook(module, inp, out):\n",
        "        # inp[0] is x: [B, N, C]\n",
        "        x = inp[0]\n",
        "        B, N, C = x.shape\n",
        "        # compute Q, K\n",
        "        qkv = module.qkv(x)  # [B, N, 3*C]\n",
        "        head_dim = C // module.num_heads\n",
        "        qkv = qkv.view(B, N, 3, module.num_heads, head_dim).permute(2, 0, 3, 1, 4)\n",
        "        q, k, _ = qkv[0], qkv[1], qkv[2]\n",
        "        # scaled dot‑product + softmax\n",
        "        attn = (q @ k.transpose(-2, -1)) * module.scale\n",
        "        attn = F.softmax(attn, dim=-1)  # [B, heads, N, N]\n",
        "        # pick [CLS]→tokens row\n",
        "        cls_attn = attn[:, :, 0, :]      # [B, heads, N]\n",
        "        ent = -(cls_attn * (cls_attn + eps).log()).sum(-1)  # [B, heads]\n",
        "        entropy_sum[layer_idx] += ent.sum().cpu()\n",
        "        sample_cnt[layer_idx]  += ent.numel()\n",
        "    return hook\n",
        "\n",
        "# ─── 3) Compute per‑block mean entropy for each variant ──────────────────\n",
        "results = {}\n",
        "for name, info in variants.items():\n",
        "    # load model checkpoint\n",
        "    path = os.path.join(config[\"output_dir\"], info[\"ckpt\"])\n",
        "    model = timm.create_model(\"vit_base_patch16_224\",\n",
        "                              pretrained=False,\n",
        "                              num_classes=config[\"num_labels\"]).to(device)\n",
        "    model.load_state_dict(torch.load(path, map_location=device))\n",
        "    model.eval()\n",
        "\n",
        "    # prepare accumulators\n",
        "    num_layers  = len(model.blocks)\n",
        "    entropy_sum = torch.zeros(num_layers)\n",
        "    sample_cnt  = torch.zeros(num_layers)\n",
        "\n",
        "    # register hooks on each attention module\n",
        "    hooks = []\n",
        "    for i, blk in enumerate(model.blocks):\n",
        "        h = blk.attn.register_forward_hook(\n",
        "            make_entropy_hook(i, entropy_sum, sample_cnt)\n",
        "        )\n",
        "        hooks.append(h)\n",
        "\n",
        "    # single forward pass over validation set\n",
        "    with torch.no_grad():\n",
        "        for batch in val_loader:\n",
        "            imgs = batch[\"pixel_values\"].to(device)\n",
        "            _    = model(imgs)\n",
        "\n",
        "    # remove hooks\n",
        "    for h in hooks:\n",
        "        h.remove()\n",
        "\n",
        "    # store mean entropy per layer\n",
        "    results[name] = (entropy_sum / sample_cnt).numpy()\n",
        "\n",
        "# ─── 4) Plot all variants together ────────────────────────────────────────\n",
        "num_layers = len(next(iter(results.values())))\n",
        "layers     = np.arange(1, num_layers + 1)\n",
        "y_max      = max(vals.max() for vals in results.values()) * 1.1\n",
        "\n",
        "fig, ax = plt.subplots(figsize=(8, 5))\n",
        "for name, info in variants.items():\n",
        "    ax.plot(\n",
        "        layers,\n",
        "        results[name],\n",
        "        marker='o',\n",
        "        color=info[\"color\"],\n",
        "        label=name\n",
        "    )\n",
        "\n",
        "ax.set_xlabel(\"Layer\")\n",
        "ax.set_ylabel(\"Entropy\")\n",
        "ax.set_title(\"Attention Entropy per Layer\")\n",
        "ax.set_xticks(layers)\n",
        "ax.set_ylim(0, y_max)\n",
        "ax.grid(True, linestyle=\"--\", alpha=0.5)\n",
        "\n",
        "# place legend outside plot on top-right\n",
        "ax.legend(\n",
        "    title=\"Variant\",\n",
        "    loc=\"upper left\",\n",
        "    bbox_to_anchor=(1.02, 1),\n",
        "    borderaxespad=0\n",
        ")\n",
        "\n",
        "plt.tight_layout(rect=[0, 0, 0.85, 1])  # leave room on right for legend\n",
        "plt.savefig(\"attention_entropy_all_variants.png\", dpi=150)\n",
        "plt.show()"
      ]
    },
    {
      "cell_type": "markdown",
      "source": [
        "### 2.2 - Saliency-density (focus) Score"
      ],
      "metadata": {
        "id": "Jsep2zZ5wrga"
      }
    },
    {
      "cell_type": "code",
      "execution_count": null,
      "metadata": {
        "id": "lqqPvI54kuwJ"
      },
      "outputs": [],
      "source": [
        "import os\n",
        "import torch\n",
        "import numpy as np\n",
        "from torch.utils.data import DataLoader\n",
        "from captum.attr import Saliency\n",
        "import timm\n",
        "\n",
        "def load_fp32_models(ckpt_path, num_labels, device):\n",
        "    \"\"\"\n",
        "    Returns a tuple (model_gpu, model_cpu, saliency_cpu).\n",
        "    - model_gpu: loaded on `device`, used for forward → pred\n",
        "    - model_cpu: loaded on CPU, used for saliency backward\n",
        "    - saliency_cpu: Captum Saliency wrapped around model_cpu\n",
        "    \"\"\"\n",
        "    # instantiate both\n",
        "    model_gpu = timm.create_model(\n",
        "        \"vit_base_patch16_224\", pretrained=False, num_classes=num_labels\n",
        "    )\n",
        "    model_cpu = timm.create_model(\n",
        "        \"vit_base_patch16_224\", pretrained=False, num_classes=num_labels\n",
        "    )\n",
        "    # load checkpoint onto CPU\n",
        "    state = torch.load(ckpt_path, map_location=\"cpu\")\n",
        "    model_gpu.load_state_dict(state)\n",
        "    model_cpu.load_state_dict(state)\n",
        "    # free raw state dict\n",
        "    del state\n",
        "    torch.cuda.empty_cache()\n",
        "    # move GPU model to device\n",
        "    model_gpu.eval().to(device)\n",
        "    # keep CPU model on cpu\n",
        "    model_cpu.eval().to(\"cpu\")\n",
        "    saliency_cpu = Saliency(model_cpu)\n",
        "    return model_gpu, model_cpu, saliency_cpu\n",
        "\n",
        "def compute_fp32_focus(\n",
        "    ckpt_path,\n",
        "    val_ds,\n",
        "    device,\n",
        "    max_images=500,\n",
        "    pct=0.05,\n",
        "    num_workers=2\n",
        "):\n",
        "    \"\"\"\n",
        "    Computes saliency‐density focus scores for the FP32 model.\n",
        "    Returns (mean_focus, std_focus).\n",
        "    \"\"\"\n",
        "    # 1) Prepare models & saliency\n",
        "    model_gpu, model_cpu, saliency_cpu = load_fp32_models(\n",
        "        ckpt_path, num_labels=config[\"num_labels\"], device=device\n",
        "    )\n",
        "\n",
        "    # 2) Single‐image DataLoader\n",
        "    loader = DataLoader(val_ds, batch_size=1, shuffle=False, num_workers=num_workers)\n",
        "\n",
        "    # 3) Loop & accumulate\n",
        "    focus_scores = []\n",
        "    processed = 0\n",
        "    for batch in loader:\n",
        "        inp_gpu = batch[\"pixel_values\"].to(device)\n",
        "        with torch.no_grad():\n",
        "            out  = model_gpu(inp_gpu)\n",
        "            pred = out.argmax(dim=-1).cpu()\n",
        "\n",
        "        inp_cpu = inp_gpu.cpu().detach().requires_grad_()\n",
        "        grad_cpu = saliency_cpu.attribute(inp_cpu, target=pred)\n",
        "\n",
        "        sal_map = grad_cpu.abs().max(1)[0].squeeze(0).numpy()\n",
        "        flat    = sal_map.ravel()\n",
        "        thr     = np.percentile(flat, 100*(1-pct))\n",
        "        focus_scores.append((flat >= thr).sum() / flat.size)\n",
        "\n",
        "        processed += 1\n",
        "        if processed >= max_images:\n",
        "            break\n",
        "\n",
        "    # 4) Compute stats\n",
        "    mean_focus = np.mean(focus_scores)\n",
        "    std_focus  = np.std(focus_scores)\n",
        "    return mean_focus, std_focus"
      ]
    },
    {
      "cell_type": "code",
      "execution_count": null,
      "metadata": {
        "colab": {
          "base_uri": "https://localhost:8080/"
        },
        "id": "-ih4PIpFgPMA",
        "outputId": "bf4cf2ff-91cb-40b0-8e20-b084f7a94695"
      },
      "outputs": [
        {
          "name": "stdout",
          "output_type": "stream",
          "text": [
            "Processed 500 images\n",
            "ViT‑LN FP32 focus (top 5% pixels): 0.0500 ± 0.0000\n"
          ]
        }
      ],
      "source": [
        "ckpt_path = os.path.join(config[\"output_dir\"], \"best_val_acc.pt\")\n",
        "mean_fp32, std_fp32 = compute_fp32_focus(ckpt_path, val_ds, device)\n",
        "\n",
        "print(f\"Processed up to {min(len(val_ds), 500)} images\")\n",
        "print(f\"FP32 focus (top {int(0.05*100)}% pixels): {mean_fp32:.4f} ± {std_fp32:.4f}\")"
      ]
    },
    {
      "cell_type": "markdown",
      "metadata": {
        "id": "r6R2MVO9l9z5"
      },
      "source": [
        "## 3 - Compression"
      ]
    },
    {
      "cell_type": "code",
      "execution_count": null,
      "metadata": {
        "id": "TXxvgSqbrRyl"
      },
      "outputs": [],
      "source": [
        "import os\n",
        "import time\n",
        "import torch\n",
        "import timm\n",
        "import torch.ao.quantization as tq\n",
        "from tqdm import tqdm\n",
        "\n",
        "device_cpu = torch.device(\"cpu\")\n",
        "device_gpu = torch.device(\"cuda\" if torch.cuda.is_available() else \"cpu\")\n",
        "quant_dir   = \"quantized\"\n",
        "quant_path  = os.path.join(quant_dir, \"vit_ln_int8.pt\")\n",
        "\n",
        "def load_fp32_on_cpu(path):\n",
        "    model = timm.create_model(\n",
        "        \"vit_base_patch16_224\", pretrained=False, num_classes=config[\"num_labels\"]\n",
        "    )\n",
        "    state = torch.load(path, map_location=\"cpu\")\n",
        "    model.load_state_dict(state)\n",
        "    return model.eval().to(device_cpu)\n",
        "\n",
        "def prepare_static_int8(fp32_cpu_model, calib_loader):\n",
        "    if hasattr(fp32_cpu_model, \"fuse_model\"):\n",
        "        fp32_cpu_model.fuse_model()\n",
        "    fp32_cpu_model.qconfig = tq.get_default_qconfig(\"fbgemm\")\n",
        "    tq.prepare(fp32_cpu_model, inplace=True)\n",
        "\n",
        "    with torch.no_grad():\n",
        "        for batch in tqdm(calib_loader, desc=\"Calibrating INT8\"):\n",
        "            fp32_cpu_model(batch[\"pixel_values\"])\n",
        "\n",
        "    quant_model = tq.convert(fp32_cpu_model, inplace=False)\n",
        "    os.makedirs(quant_dir, exist_ok=True)\n",
        "    torch.save(quant_model.state_dict(), quant_path)\n",
        "    print(f\"Saved static‑quantized INT8 model to {quant_path}\")\n",
        "    return quant_model.eval().to(device_cpu)\n",
        "\n",
        "def load_fp32_on_gpu(path):\n",
        "    model = timm.create_model(\n",
        "        \"vit_base_patch16_224\", pretrained=False, num_classes=config[\"num_labels\"]\n",
        "    )\n",
        "    state = torch.load(path, map_location=\"cpu\")\n",
        "    model.load_state_dict(state)\n",
        "    return model.eval().to(device_gpu)\n",
        "\n",
        "def eval_acc(model, loader, device, desc=None):\n",
        "    model.to(device).eval()\n",
        "    correct = total = 0\n",
        "    iterator = tqdm(loader, desc=desc) if desc else loader\n",
        "    with torch.no_grad():  # inference_mode isn't available in this PyTorch version\n",
        "        for batch in iterator:\n",
        "            imgs   = batch[\"pixel_values\"].to(device)\n",
        "            labels = batch[\"labels\"].to(device)\n",
        "            preds  = model(imgs).argmax(dim=-1)\n",
        "            correct += (preds == labels).sum().item()\n",
        "            total   += labels.size(0)\n",
        "    return correct / total\n",
        "\n",
        "def measure_latency(model, loader, device, runs=20, warmups=10):\n",
        "    model.to(device).eval()\n",
        "    imgs = next(iter(loader))[\"pixel_values\"].to(device)\n",
        "\n",
        "    # warm‑up\n",
        "    for _ in tqdm(range(warmups), desc=\"Warm-up\"):\n",
        "        with torch.no_grad():\n",
        "            model(imgs)\n",
        "\n",
        "    # timed runs\n",
        "    start = time.perf_counter()\n",
        "    for _ in tqdm(range(runs), desc=\"Measuring latency\"):\n",
        "        with torch.no_grad():\n",
        "            model(imgs)\n",
        "    elapsed = time.perf_counter() - start\n",
        "\n",
        "    return elapsed / runs * 1000  # ms per batch"
      ]
    },
    {
      "cell_type": "markdown",
      "metadata": {
        "id": "7IOOf0sixwZy"
      },
      "source": [
        "### 3.1 - Dynamic Quantization"
      ]
    },
    {
      "cell_type": "code",
      "execution_count": null,
      "metadata": {
        "colab": {
          "base_uri": "https://localhost:8080/"
        },
        "id": "WgebOJ9Il9_r",
        "outputId": "d88fa7bf-ff2e-4f05-99a2-7eef15b72247"
      },
      "outputs": [
        {
          "name": "stdout",
          "output_type": "stream",
          "text": [
            "Saved dynamic‐quantized model to quantized/vit_ln_dynint8.pt\n"
          ]
        }
      ],
      "source": [
        "# 1) Load FP32 on CPU\n",
        "fp32_path = os.path.join(config[\"output_dir\"], \"best_val_acc.pt\")\n",
        "model_fp32_cpu = timm.create_model(\"vit_base_patch16_224\", pretrained=False, num_classes=config[\"num_labels\"])\n",
        "model_fp32_cpu.load_state_dict(torch.load(fp32_path, map_location=\"cpu\"))\n",
        "model_fp32_cpu.eval()\n",
        "\n",
        "# 2) Dynamic‐quantize only Linear modules\n",
        "quant_model_dyn = quantize_dynamic(\n",
        "    model_fp32_cpu,\n",
        "    {torch.nn.Linear},\n",
        "    dtype=torch.qint8\n",
        ")\n",
        "\n",
        "# 3) Save\n",
        "os.makedirs(\"quantized\", exist_ok=True)\n",
        "dyn_path = \"quantized/vit_ln_dynint8.pt\"\n",
        "torch.save(quant_model_dyn.state_dict(), dyn_path)\n",
        "print(f\"Saved dynamic‐quantized model to {dyn_path}\")"
      ]
    },
    {
      "cell_type": "code",
      "execution_count": null,
      "metadata": {
        "id": "VrRgjIelqN9O"
      },
      "outputs": [],
      "source": [
        "# CPU eval of FP32 vs Dyn‑INT8 (ViT‑LN)\n",
        "import os, time, torch\n",
        "import timm\n",
        "from tqdm import tqdm\n",
        "\n",
        "cpu = torch.device(\"cpu\")\n",
        "\n",
        "# 1) Load models\n",
        "model_fp32_cpu   = load_fp32_cpu(fp32_path)\n",
        "quant_model_dyn  = quant_model_dyn.to(cpu)"
      ]
    },
    {
      "cell_type": "code",
      "execution_count": null,
      "metadata": {
        "colab": {
          "base_uri": "https://localhost:8080/"
        },
        "id": "R83QjKVbv3r_",
        "outputId": "625d3fd5-588c-4e08-a022-99c1062d6bac"
      },
      "outputs": [
        {
          "name": "stderr",
          "output_type": "stream",
          "text": [
            "Dyn‑INT8 CPU Eval: 100%|██████████| 20/20 [09:56<00:00, 29.84s/it]\n"
          ]
        }
      ],
      "source": [
        "acc_dyn  = eval_acc(quant_model_dyn,  val_loader, cpu, desc=\"Dyn‑INT8 CPU Eval\")\n",
        "\n",
        "lat_dyn  = measure_latency(quant_model_dyn, cpu)\n",
        "\n",
        "size_dyn  = os.path.getsize(dyn_path)  / 1e6"
      ]
    },
    {
      "cell_type": "code",
      "execution_count": null,
      "metadata": {
        "colab": {
          "base_uri": "https://localhost:8080/"
        },
        "id": "dpWTpd4mynVj",
        "outputId": "a9134906-e5dd-42fb-f938-d8b3034437e3"
      },
      "outputs": [
        {
          "name": "stdout",
          "output_type": "stream",
          "text": [
            "Dyn‑INT8| Acc=89.86% | Size=88.6 MB | Lat=29456.0 ms\n"
          ]
        }
      ],
      "source": [
        "print(f\"Dyn‑INT8| Acc={acc_dyn*100:.2f}% | Size={size_dyn:.1f} MB | Lat={lat_dyn:.1f} ms\")"
      ]
    },
    {
      "cell_type": "code",
      "execution_count": 59,
      "metadata": {
        "id": "-SAhIvxPwAw5",
        "colab": {
          "base_uri": "https://localhost:8080/",
          "height": 280
        },
        "collapsed": true,
        "outputId": "098820c8-0e97-4a70-c245-60668543b793"
      },
      "outputs": [
        {
          "output_type": "stream",
          "name": "stderr",
          "text": [
            "FP32 CPU Eval: 100%|██████████| 20/20 [16:17<00:00, 48.89s/it]\n"
          ]
        },
        {
          "output_type": "error",
          "ename": "TypeError",
          "evalue": "measure_latency() missing 1 required positional argument: 'device'",
          "traceback": [
            "\u001b[0;31m---------------------------------------------------------------------------\u001b[0m",
            "\u001b[0;31mTypeError\u001b[0m                                 Traceback (most recent call last)",
            "\u001b[0;32m<ipython-input-59-5c3d2776fcf4>\u001b[0m in \u001b[0;36m<cell line: 0>\u001b[0;34m()\u001b[0m\n\u001b[1;32m      1\u001b[0m \u001b[0macc_fp32\u001b[0m \u001b[0;34m=\u001b[0m \u001b[0meval_acc\u001b[0m\u001b[0;34m(\u001b[0m\u001b[0mmodel_fp32_cpu\u001b[0m\u001b[0;34m,\u001b[0m \u001b[0mval_loader\u001b[0m\u001b[0;34m,\u001b[0m \u001b[0mcpu\u001b[0m\u001b[0;34m,\u001b[0m \u001b[0mdesc\u001b[0m\u001b[0;34m=\u001b[0m\u001b[0;34m\"FP32 CPU Eval\"\u001b[0m\u001b[0;34m)\u001b[0m\u001b[0;34m\u001b[0m\u001b[0;34m\u001b[0m\u001b[0m\n\u001b[1;32m      2\u001b[0m \u001b[0;34m\u001b[0m\u001b[0m\n\u001b[0;32m----> 3\u001b[0;31m \u001b[0mlat_fp32\u001b[0m \u001b[0;34m=\u001b[0m \u001b[0mmeasure_latency\u001b[0m\u001b[0;34m(\u001b[0m\u001b[0mmodel_fp32_cpu\u001b[0m\u001b[0;34m,\u001b[0m \u001b[0mcpu\u001b[0m\u001b[0;34m)\u001b[0m\u001b[0;34m\u001b[0m\u001b[0;34m\u001b[0m\u001b[0m\n\u001b[0m\u001b[1;32m      4\u001b[0m \u001b[0;34m\u001b[0m\u001b[0m\n\u001b[1;32m      5\u001b[0m \u001b[0;31m# 3) Measure sizes\u001b[0m\u001b[0;34m\u001b[0m\u001b[0;34m\u001b[0m\u001b[0m\n",
            "\u001b[0;31mTypeError\u001b[0m: measure_latency() missing 1 required positional argument: 'device'"
          ]
        }
      ],
      "source": [
        "acc_fp32 = eval_acc(model_fp32_cpu, val_loader, cpu, desc=\"FP32 CPU Eval\")"
      ]
    },
    {
      "cell_type": "code",
      "source": [
        "lat_fp32 = measure_latency(model_fp32_cpu, val_loader, cpu)\n",
        "\n",
        "# 3) Measure sizes\n",
        "size_fp32 = os.path.getsize(fp32_path) / 1e6\n",
        "\n",
        "# 5) Print metrics\n",
        "print(f\"FP32    | Acc={acc_fp32*100:.2f}% | Size={size_fp32:.1f} MB | Lat={lat_fp32:.1f} ms\")"
      ],
      "metadata": {
        "colab": {
          "base_uri": "https://localhost:8080/",
          "height": 480
        },
        "id": "OqDaBl5zN5BV",
        "outputId": "9284140c-a45e-4409-e585-810c3a6ebe7d"
      },
      "execution_count": 60,
      "outputs": [
        {
          "output_type": "stream",
          "name": "stderr",
          "text": [
            "Warm‑up INT8: 100%|██████████| 10/10 [07:52<00:00, 47.21s/it]\n",
            "Latency runs INT8:   8%|▊         | 8/100 [06:33<1:15:27, 49.22s/it]\n"
          ]
        },
        {
          "output_type": "error",
          "ename": "KeyboardInterrupt",
          "evalue": "",
          "traceback": [
            "\u001b[0;31m---------------------------------------------------------------------------\u001b[0m",
            "\u001b[0;31mKeyboardInterrupt\u001b[0m                         Traceback (most recent call last)",
            "\u001b[0;32m<ipython-input-60-f31cbb2831ec>\u001b[0m in \u001b[0;36m<cell line: 0>\u001b[0;34m()\u001b[0m\n\u001b[0;32m----> 1\u001b[0;31m \u001b[0mlat_fp32\u001b[0m \u001b[0;34m=\u001b[0m \u001b[0mmeasure_latency\u001b[0m\u001b[0;34m(\u001b[0m\u001b[0mmodel_fp32_cpu\u001b[0m\u001b[0;34m,\u001b[0m \u001b[0mval_loader\u001b[0m\u001b[0;34m,\u001b[0m \u001b[0mcpu\u001b[0m\u001b[0;34m)\u001b[0m\u001b[0;34m\u001b[0m\u001b[0;34m\u001b[0m\u001b[0m\n\u001b[0m\u001b[1;32m      2\u001b[0m \u001b[0;34m\u001b[0m\u001b[0m\n\u001b[1;32m      3\u001b[0m \u001b[0;31m# 3) Measure sizes\u001b[0m\u001b[0;34m\u001b[0m\u001b[0;34m\u001b[0m\u001b[0m\n\u001b[1;32m      4\u001b[0m \u001b[0msize_fp32\u001b[0m \u001b[0;34m=\u001b[0m \u001b[0mos\u001b[0m\u001b[0;34m.\u001b[0m\u001b[0mpath\u001b[0m\u001b[0;34m.\u001b[0m\u001b[0mgetsize\u001b[0m\u001b[0;34m(\u001b[0m\u001b[0mfp32_path\u001b[0m\u001b[0;34m)\u001b[0m \u001b[0;34m/\u001b[0m \u001b[0;36m1e6\u001b[0m\u001b[0;34m\u001b[0m\u001b[0;34m\u001b[0m\u001b[0m\n\u001b[1;32m      5\u001b[0m \u001b[0;34m\u001b[0m\u001b[0m\n",
            "\u001b[0;32m<ipython-input-53-e945d9114aba>\u001b[0m in \u001b[0;36mmeasure_latency\u001b[0;34m(model, loader, device, runs, warmups)\u001b[0m\n\u001b[1;32m     46\u001b[0m     \u001b[0;32mfor\u001b[0m \u001b[0m_\u001b[0m \u001b[0;32min\u001b[0m \u001b[0mtqdm\u001b[0m\u001b[0;34m(\u001b[0m\u001b[0mrange\u001b[0m\u001b[0;34m(\u001b[0m\u001b[0mruns\u001b[0m\u001b[0;34m)\u001b[0m\u001b[0;34m,\u001b[0m \u001b[0mdesc\u001b[0m\u001b[0;34m=\u001b[0m\u001b[0;34m\"Latency runs INT8\"\u001b[0m\u001b[0;34m)\u001b[0m\u001b[0;34m:\u001b[0m\u001b[0;34m\u001b[0m\u001b[0;34m\u001b[0m\u001b[0m\n\u001b[1;32m     47\u001b[0m         \u001b[0;32mwith\u001b[0m \u001b[0mtorch\u001b[0m\u001b[0;34m.\u001b[0m\u001b[0mno_grad\u001b[0m\u001b[0;34m(\u001b[0m\u001b[0;34m)\u001b[0m\u001b[0;34m:\u001b[0m\u001b[0;34m\u001b[0m\u001b[0;34m\u001b[0m\u001b[0m\n\u001b[0;32m---> 48\u001b[0;31m             \u001b[0mmodel\u001b[0m\u001b[0;34m(\u001b[0m\u001b[0mimgs\u001b[0m\u001b[0;34m)\u001b[0m\u001b[0;34m\u001b[0m\u001b[0;34m\u001b[0m\u001b[0m\n\u001b[0m\u001b[1;32m     49\u001b[0m     \u001b[0;32mreturn\u001b[0m \u001b[0;34m(\u001b[0m\u001b[0mtime\u001b[0m\u001b[0;34m.\u001b[0m\u001b[0mperf_counter\u001b[0m\u001b[0;34m(\u001b[0m\u001b[0;34m)\u001b[0m \u001b[0;34m-\u001b[0m \u001b[0mstart\u001b[0m\u001b[0;34m)\u001b[0m \u001b[0;34m/\u001b[0m \u001b[0mruns\u001b[0m \u001b[0;34m*\u001b[0m \u001b[0;36m1000\u001b[0m  \u001b[0;31m# ms per batch\u001b[0m\u001b[0;34m\u001b[0m\u001b[0;34m\u001b[0m\u001b[0m\n\u001b[1;32m     50\u001b[0m \u001b[0;34m\u001b[0m\u001b[0m\n",
            "\u001b[0;32m/usr/local/lib/python3.11/dist-packages/torch/nn/modules/module.py\u001b[0m in \u001b[0;36m_wrapped_call_impl\u001b[0;34m(self, *args, **kwargs)\u001b[0m\n\u001b[1;32m   1737\u001b[0m             \u001b[0;32mreturn\u001b[0m \u001b[0mself\u001b[0m\u001b[0;34m.\u001b[0m\u001b[0m_compiled_call_impl\u001b[0m\u001b[0;34m(\u001b[0m\u001b[0;34m*\u001b[0m\u001b[0margs\u001b[0m\u001b[0;34m,\u001b[0m \u001b[0;34m**\u001b[0m\u001b[0mkwargs\u001b[0m\u001b[0;34m)\u001b[0m  \u001b[0;31m# type: ignore[misc]\u001b[0m\u001b[0;34m\u001b[0m\u001b[0;34m\u001b[0m\u001b[0m\n\u001b[1;32m   1738\u001b[0m         \u001b[0;32melse\u001b[0m\u001b[0;34m:\u001b[0m\u001b[0;34m\u001b[0m\u001b[0;34m\u001b[0m\u001b[0m\n\u001b[0;32m-> 1739\u001b[0;31m             \u001b[0;32mreturn\u001b[0m \u001b[0mself\u001b[0m\u001b[0;34m.\u001b[0m\u001b[0m_call_impl\u001b[0m\u001b[0;34m(\u001b[0m\u001b[0;34m*\u001b[0m\u001b[0margs\u001b[0m\u001b[0;34m,\u001b[0m \u001b[0;34m**\u001b[0m\u001b[0mkwargs\u001b[0m\u001b[0;34m)\u001b[0m\u001b[0;34m\u001b[0m\u001b[0;34m\u001b[0m\u001b[0m\n\u001b[0m\u001b[1;32m   1740\u001b[0m \u001b[0;34m\u001b[0m\u001b[0m\n\u001b[1;32m   1741\u001b[0m     \u001b[0;31m# torchrec tests the code consistency with the following code\u001b[0m\u001b[0;34m\u001b[0m\u001b[0;34m\u001b[0m\u001b[0m\n",
            "\u001b[0;32m/usr/local/lib/python3.11/dist-packages/torch/nn/modules/module.py\u001b[0m in \u001b[0;36m_call_impl\u001b[0;34m(self, *args, **kwargs)\u001b[0m\n\u001b[1;32m   1748\u001b[0m                 \u001b[0;32mor\u001b[0m \u001b[0m_global_backward_pre_hooks\u001b[0m \u001b[0;32mor\u001b[0m \u001b[0m_global_backward_hooks\u001b[0m\u001b[0;34m\u001b[0m\u001b[0;34m\u001b[0m\u001b[0m\n\u001b[1;32m   1749\u001b[0m                 or _global_forward_hooks or _global_forward_pre_hooks):\n\u001b[0;32m-> 1750\u001b[0;31m             \u001b[0;32mreturn\u001b[0m \u001b[0mforward_call\u001b[0m\u001b[0;34m(\u001b[0m\u001b[0;34m*\u001b[0m\u001b[0margs\u001b[0m\u001b[0;34m,\u001b[0m \u001b[0;34m**\u001b[0m\u001b[0mkwargs\u001b[0m\u001b[0;34m)\u001b[0m\u001b[0;34m\u001b[0m\u001b[0;34m\u001b[0m\u001b[0m\n\u001b[0m\u001b[1;32m   1751\u001b[0m \u001b[0;34m\u001b[0m\u001b[0m\n\u001b[1;32m   1752\u001b[0m         \u001b[0mresult\u001b[0m \u001b[0;34m=\u001b[0m \u001b[0;32mNone\u001b[0m\u001b[0;34m\u001b[0m\u001b[0;34m\u001b[0m\u001b[0m\n",
            "\u001b[0;32m/usr/local/lib/python3.11/dist-packages/timm/models/vision_transformer.py\u001b[0m in \u001b[0;36mforward\u001b[0;34m(self, x)\u001b[0m\n\u001b[1;32m    851\u001b[0m \u001b[0;34m\u001b[0m\u001b[0m\n\u001b[1;32m    852\u001b[0m     \u001b[0;32mdef\u001b[0m \u001b[0mforward\u001b[0m\u001b[0;34m(\u001b[0m\u001b[0mself\u001b[0m\u001b[0;34m,\u001b[0m \u001b[0mx\u001b[0m\u001b[0;34m:\u001b[0m \u001b[0mtorch\u001b[0m\u001b[0;34m.\u001b[0m\u001b[0mTensor\u001b[0m\u001b[0;34m)\u001b[0m \u001b[0;34m->\u001b[0m \u001b[0mtorch\u001b[0m\u001b[0;34m.\u001b[0m\u001b[0mTensor\u001b[0m\u001b[0;34m:\u001b[0m\u001b[0;34m\u001b[0m\u001b[0;34m\u001b[0m\u001b[0m\n\u001b[0;32m--> 853\u001b[0;31m         \u001b[0mx\u001b[0m \u001b[0;34m=\u001b[0m \u001b[0mself\u001b[0m\u001b[0;34m.\u001b[0m\u001b[0mforward_features\u001b[0m\u001b[0;34m(\u001b[0m\u001b[0mx\u001b[0m\u001b[0;34m)\u001b[0m\u001b[0;34m\u001b[0m\u001b[0;34m\u001b[0m\u001b[0m\n\u001b[0m\u001b[1;32m    854\u001b[0m         \u001b[0mx\u001b[0m \u001b[0;34m=\u001b[0m \u001b[0mself\u001b[0m\u001b[0;34m.\u001b[0m\u001b[0mforward_head\u001b[0m\u001b[0;34m(\u001b[0m\u001b[0mx\u001b[0m\u001b[0;34m)\u001b[0m\u001b[0;34m\u001b[0m\u001b[0;34m\u001b[0m\u001b[0m\n\u001b[1;32m    855\u001b[0m         \u001b[0;32mreturn\u001b[0m \u001b[0mx\u001b[0m\u001b[0;34m\u001b[0m\u001b[0;34m\u001b[0m\u001b[0m\n",
            "\u001b[0;32m/usr/local/lib/python3.11/dist-packages/timm/models/vision_transformer.py\u001b[0m in \u001b[0;36mforward_features\u001b[0;34m(self, x)\u001b[0m\n\u001b[1;32m    832\u001b[0m             \u001b[0mx\u001b[0m \u001b[0;34m=\u001b[0m \u001b[0mcheckpoint_seq\u001b[0m\u001b[0;34m(\u001b[0m\u001b[0mself\u001b[0m\u001b[0;34m.\u001b[0m\u001b[0mblocks\u001b[0m\u001b[0;34m,\u001b[0m \u001b[0mx\u001b[0m\u001b[0;34m)\u001b[0m\u001b[0;34m\u001b[0m\u001b[0;34m\u001b[0m\u001b[0m\n\u001b[1;32m    833\u001b[0m         \u001b[0;32melse\u001b[0m\u001b[0;34m:\u001b[0m\u001b[0;34m\u001b[0m\u001b[0;34m\u001b[0m\u001b[0m\n\u001b[0;32m--> 834\u001b[0;31m             \u001b[0mx\u001b[0m \u001b[0;34m=\u001b[0m \u001b[0mself\u001b[0m\u001b[0;34m.\u001b[0m\u001b[0mblocks\u001b[0m\u001b[0;34m(\u001b[0m\u001b[0mx\u001b[0m\u001b[0;34m)\u001b[0m\u001b[0;34m\u001b[0m\u001b[0;34m\u001b[0m\u001b[0m\n\u001b[0m\u001b[1;32m    835\u001b[0m         \u001b[0mx\u001b[0m \u001b[0;34m=\u001b[0m \u001b[0mself\u001b[0m\u001b[0;34m.\u001b[0m\u001b[0mnorm\u001b[0m\u001b[0;34m(\u001b[0m\u001b[0mx\u001b[0m\u001b[0;34m)\u001b[0m\u001b[0;34m\u001b[0m\u001b[0;34m\u001b[0m\u001b[0m\n\u001b[1;32m    836\u001b[0m         \u001b[0;32mreturn\u001b[0m \u001b[0mx\u001b[0m\u001b[0;34m\u001b[0m\u001b[0;34m\u001b[0m\u001b[0m\n",
            "\u001b[0;32m/usr/local/lib/python3.11/dist-packages/torch/nn/modules/module.py\u001b[0m in \u001b[0;36m_wrapped_call_impl\u001b[0;34m(self, *args, **kwargs)\u001b[0m\n\u001b[1;32m   1737\u001b[0m             \u001b[0;32mreturn\u001b[0m \u001b[0mself\u001b[0m\u001b[0;34m.\u001b[0m\u001b[0m_compiled_call_impl\u001b[0m\u001b[0;34m(\u001b[0m\u001b[0;34m*\u001b[0m\u001b[0margs\u001b[0m\u001b[0;34m,\u001b[0m \u001b[0;34m**\u001b[0m\u001b[0mkwargs\u001b[0m\u001b[0;34m)\u001b[0m  \u001b[0;31m# type: ignore[misc]\u001b[0m\u001b[0;34m\u001b[0m\u001b[0;34m\u001b[0m\u001b[0m\n\u001b[1;32m   1738\u001b[0m         \u001b[0;32melse\u001b[0m\u001b[0;34m:\u001b[0m\u001b[0;34m\u001b[0m\u001b[0;34m\u001b[0m\u001b[0m\n\u001b[0;32m-> 1739\u001b[0;31m             \u001b[0;32mreturn\u001b[0m \u001b[0mself\u001b[0m\u001b[0;34m.\u001b[0m\u001b[0m_call_impl\u001b[0m\u001b[0;34m(\u001b[0m\u001b[0;34m*\u001b[0m\u001b[0margs\u001b[0m\u001b[0;34m,\u001b[0m \u001b[0;34m**\u001b[0m\u001b[0mkwargs\u001b[0m\u001b[0;34m)\u001b[0m\u001b[0;34m\u001b[0m\u001b[0;34m\u001b[0m\u001b[0m\n\u001b[0m\u001b[1;32m   1740\u001b[0m \u001b[0;34m\u001b[0m\u001b[0m\n\u001b[1;32m   1741\u001b[0m     \u001b[0;31m# torchrec tests the code consistency with the following code\u001b[0m\u001b[0;34m\u001b[0m\u001b[0;34m\u001b[0m\u001b[0m\n",
            "\u001b[0;32m/usr/local/lib/python3.11/dist-packages/torch/nn/modules/module.py\u001b[0m in \u001b[0;36m_call_impl\u001b[0;34m(self, *args, **kwargs)\u001b[0m\n\u001b[1;32m   1748\u001b[0m                 \u001b[0;32mor\u001b[0m \u001b[0m_global_backward_pre_hooks\u001b[0m \u001b[0;32mor\u001b[0m \u001b[0m_global_backward_hooks\u001b[0m\u001b[0;34m\u001b[0m\u001b[0;34m\u001b[0m\u001b[0m\n\u001b[1;32m   1749\u001b[0m                 or _global_forward_hooks or _global_forward_pre_hooks):\n\u001b[0;32m-> 1750\u001b[0;31m             \u001b[0;32mreturn\u001b[0m \u001b[0mforward_call\u001b[0m\u001b[0;34m(\u001b[0m\u001b[0;34m*\u001b[0m\u001b[0margs\u001b[0m\u001b[0;34m,\u001b[0m \u001b[0;34m**\u001b[0m\u001b[0mkwargs\u001b[0m\u001b[0;34m)\u001b[0m\u001b[0;34m\u001b[0m\u001b[0;34m\u001b[0m\u001b[0m\n\u001b[0m\u001b[1;32m   1751\u001b[0m \u001b[0;34m\u001b[0m\u001b[0m\n\u001b[1;32m   1752\u001b[0m         \u001b[0mresult\u001b[0m \u001b[0;34m=\u001b[0m \u001b[0;32mNone\u001b[0m\u001b[0;34m\u001b[0m\u001b[0;34m\u001b[0m\u001b[0m\n",
            "\u001b[0;32m/usr/local/lib/python3.11/dist-packages/torch/nn/modules/container.py\u001b[0m in \u001b[0;36mforward\u001b[0;34m(self, input)\u001b[0m\n\u001b[1;32m    248\u001b[0m     \u001b[0;32mdef\u001b[0m \u001b[0mforward\u001b[0m\u001b[0;34m(\u001b[0m\u001b[0mself\u001b[0m\u001b[0;34m,\u001b[0m \u001b[0minput\u001b[0m\u001b[0;34m)\u001b[0m\u001b[0;34m:\u001b[0m\u001b[0;34m\u001b[0m\u001b[0;34m\u001b[0m\u001b[0m\n\u001b[1;32m    249\u001b[0m         \u001b[0;32mfor\u001b[0m \u001b[0mmodule\u001b[0m \u001b[0;32min\u001b[0m \u001b[0mself\u001b[0m\u001b[0;34m:\u001b[0m\u001b[0;34m\u001b[0m\u001b[0;34m\u001b[0m\u001b[0m\n\u001b[0;32m--> 250\u001b[0;31m             \u001b[0minput\u001b[0m \u001b[0;34m=\u001b[0m \u001b[0mmodule\u001b[0m\u001b[0;34m(\u001b[0m\u001b[0minput\u001b[0m\u001b[0;34m)\u001b[0m\u001b[0;34m\u001b[0m\u001b[0;34m\u001b[0m\u001b[0m\n\u001b[0m\u001b[1;32m    251\u001b[0m         \u001b[0;32mreturn\u001b[0m \u001b[0minput\u001b[0m\u001b[0;34m\u001b[0m\u001b[0;34m\u001b[0m\u001b[0m\n\u001b[1;32m    252\u001b[0m \u001b[0;34m\u001b[0m\u001b[0m\n",
            "\u001b[0;32m/usr/local/lib/python3.11/dist-packages/torch/nn/modules/module.py\u001b[0m in \u001b[0;36m_wrapped_call_impl\u001b[0;34m(self, *args, **kwargs)\u001b[0m\n\u001b[1;32m   1737\u001b[0m             \u001b[0;32mreturn\u001b[0m \u001b[0mself\u001b[0m\u001b[0;34m.\u001b[0m\u001b[0m_compiled_call_impl\u001b[0m\u001b[0;34m(\u001b[0m\u001b[0;34m*\u001b[0m\u001b[0margs\u001b[0m\u001b[0;34m,\u001b[0m \u001b[0;34m**\u001b[0m\u001b[0mkwargs\u001b[0m\u001b[0;34m)\u001b[0m  \u001b[0;31m# type: ignore[misc]\u001b[0m\u001b[0;34m\u001b[0m\u001b[0;34m\u001b[0m\u001b[0m\n\u001b[1;32m   1738\u001b[0m         \u001b[0;32melse\u001b[0m\u001b[0;34m:\u001b[0m\u001b[0;34m\u001b[0m\u001b[0;34m\u001b[0m\u001b[0m\n\u001b[0;32m-> 1739\u001b[0;31m             \u001b[0;32mreturn\u001b[0m \u001b[0mself\u001b[0m\u001b[0;34m.\u001b[0m\u001b[0m_call_impl\u001b[0m\u001b[0;34m(\u001b[0m\u001b[0;34m*\u001b[0m\u001b[0margs\u001b[0m\u001b[0;34m,\u001b[0m \u001b[0;34m**\u001b[0m\u001b[0mkwargs\u001b[0m\u001b[0;34m)\u001b[0m\u001b[0;34m\u001b[0m\u001b[0;34m\u001b[0m\u001b[0m\n\u001b[0m\u001b[1;32m   1740\u001b[0m \u001b[0;34m\u001b[0m\u001b[0m\n\u001b[1;32m   1741\u001b[0m     \u001b[0;31m# torchrec tests the code consistency with the following code\u001b[0m\u001b[0;34m\u001b[0m\u001b[0;34m\u001b[0m\u001b[0m\n",
            "\u001b[0;32m/usr/local/lib/python3.11/dist-packages/torch/nn/modules/module.py\u001b[0m in \u001b[0;36m_call_impl\u001b[0;34m(self, *args, **kwargs)\u001b[0m\n\u001b[1;32m   1748\u001b[0m                 \u001b[0;32mor\u001b[0m \u001b[0m_global_backward_pre_hooks\u001b[0m \u001b[0;32mor\u001b[0m \u001b[0m_global_backward_hooks\u001b[0m\u001b[0;34m\u001b[0m\u001b[0;34m\u001b[0m\u001b[0m\n\u001b[1;32m   1749\u001b[0m                 or _global_forward_hooks or _global_forward_pre_hooks):\n\u001b[0;32m-> 1750\u001b[0;31m             \u001b[0;32mreturn\u001b[0m \u001b[0mforward_call\u001b[0m\u001b[0;34m(\u001b[0m\u001b[0;34m*\u001b[0m\u001b[0margs\u001b[0m\u001b[0;34m,\u001b[0m \u001b[0;34m**\u001b[0m\u001b[0mkwargs\u001b[0m\u001b[0;34m)\u001b[0m\u001b[0;34m\u001b[0m\u001b[0;34m\u001b[0m\u001b[0m\n\u001b[0m\u001b[1;32m   1751\u001b[0m \u001b[0;34m\u001b[0m\u001b[0m\n\u001b[1;32m   1752\u001b[0m         \u001b[0mresult\u001b[0m \u001b[0;34m=\u001b[0m \u001b[0;32mNone\u001b[0m\u001b[0;34m\u001b[0m\u001b[0;34m\u001b[0m\u001b[0m\n",
            "\u001b[0;32m/usr/local/lib/python3.11/dist-packages/timm/models/vision_transformer.py\u001b[0m in \u001b[0;36mforward\u001b[0;34m(self, x)\u001b[0m\n\u001b[1;32m    167\u001b[0m \u001b[0;34m\u001b[0m\u001b[0m\n\u001b[1;32m    168\u001b[0m     \u001b[0;32mdef\u001b[0m \u001b[0mforward\u001b[0m\u001b[0;34m(\u001b[0m\u001b[0mself\u001b[0m\u001b[0;34m,\u001b[0m \u001b[0mx\u001b[0m\u001b[0;34m:\u001b[0m \u001b[0mtorch\u001b[0m\u001b[0;34m.\u001b[0m\u001b[0mTensor\u001b[0m\u001b[0;34m)\u001b[0m \u001b[0;34m->\u001b[0m \u001b[0mtorch\u001b[0m\u001b[0;34m.\u001b[0m\u001b[0mTensor\u001b[0m\u001b[0;34m:\u001b[0m\u001b[0;34m\u001b[0m\u001b[0;34m\u001b[0m\u001b[0m\n\u001b[0;32m--> 169\u001b[0;31m         \u001b[0mx\u001b[0m \u001b[0;34m=\u001b[0m \u001b[0mx\u001b[0m \u001b[0;34m+\u001b[0m \u001b[0mself\u001b[0m\u001b[0;34m.\u001b[0m\u001b[0mdrop_path1\u001b[0m\u001b[0;34m(\u001b[0m\u001b[0mself\u001b[0m\u001b[0;34m.\u001b[0m\u001b[0mls1\u001b[0m\u001b[0;34m(\u001b[0m\u001b[0mself\u001b[0m\u001b[0;34m.\u001b[0m\u001b[0mattn\u001b[0m\u001b[0;34m(\u001b[0m\u001b[0mself\u001b[0m\u001b[0;34m.\u001b[0m\u001b[0mnorm1\u001b[0m\u001b[0;34m(\u001b[0m\u001b[0mx\u001b[0m\u001b[0;34m)\u001b[0m\u001b[0;34m)\u001b[0m\u001b[0;34m)\u001b[0m\u001b[0;34m)\u001b[0m\u001b[0;34m\u001b[0m\u001b[0;34m\u001b[0m\u001b[0m\n\u001b[0m\u001b[1;32m    170\u001b[0m         \u001b[0mx\u001b[0m \u001b[0;34m=\u001b[0m \u001b[0mx\u001b[0m \u001b[0;34m+\u001b[0m \u001b[0mself\u001b[0m\u001b[0;34m.\u001b[0m\u001b[0mdrop_path2\u001b[0m\u001b[0;34m(\u001b[0m\u001b[0mself\u001b[0m\u001b[0;34m.\u001b[0m\u001b[0mls2\u001b[0m\u001b[0;34m(\u001b[0m\u001b[0mself\u001b[0m\u001b[0;34m.\u001b[0m\u001b[0mmlp\u001b[0m\u001b[0;34m(\u001b[0m\u001b[0mself\u001b[0m\u001b[0;34m.\u001b[0m\u001b[0mnorm2\u001b[0m\u001b[0;34m(\u001b[0m\u001b[0mx\u001b[0m\u001b[0;34m)\u001b[0m\u001b[0;34m)\u001b[0m\u001b[0;34m)\u001b[0m\u001b[0;34m)\u001b[0m\u001b[0;34m\u001b[0m\u001b[0;34m\u001b[0m\u001b[0m\n\u001b[1;32m    171\u001b[0m         \u001b[0;32mreturn\u001b[0m \u001b[0mx\u001b[0m\u001b[0;34m\u001b[0m\u001b[0;34m\u001b[0m\u001b[0m\n",
            "\u001b[0;32m/usr/local/lib/python3.11/dist-packages/torch/nn/modules/module.py\u001b[0m in \u001b[0;36m_wrapped_call_impl\u001b[0;34m(self, *args, **kwargs)\u001b[0m\n\u001b[1;32m   1737\u001b[0m             \u001b[0;32mreturn\u001b[0m \u001b[0mself\u001b[0m\u001b[0;34m.\u001b[0m\u001b[0m_compiled_call_impl\u001b[0m\u001b[0;34m(\u001b[0m\u001b[0;34m*\u001b[0m\u001b[0margs\u001b[0m\u001b[0;34m,\u001b[0m \u001b[0;34m**\u001b[0m\u001b[0mkwargs\u001b[0m\u001b[0;34m)\u001b[0m  \u001b[0;31m# type: ignore[misc]\u001b[0m\u001b[0;34m\u001b[0m\u001b[0;34m\u001b[0m\u001b[0m\n\u001b[1;32m   1738\u001b[0m         \u001b[0;32melse\u001b[0m\u001b[0;34m:\u001b[0m\u001b[0;34m\u001b[0m\u001b[0;34m\u001b[0m\u001b[0m\n\u001b[0;32m-> 1739\u001b[0;31m             \u001b[0;32mreturn\u001b[0m \u001b[0mself\u001b[0m\u001b[0;34m.\u001b[0m\u001b[0m_call_impl\u001b[0m\u001b[0;34m(\u001b[0m\u001b[0;34m*\u001b[0m\u001b[0margs\u001b[0m\u001b[0;34m,\u001b[0m \u001b[0;34m**\u001b[0m\u001b[0mkwargs\u001b[0m\u001b[0;34m)\u001b[0m\u001b[0;34m\u001b[0m\u001b[0;34m\u001b[0m\u001b[0m\n\u001b[0m\u001b[1;32m   1740\u001b[0m \u001b[0;34m\u001b[0m\u001b[0m\n\u001b[1;32m   1741\u001b[0m     \u001b[0;31m# torchrec tests the code consistency with the following code\u001b[0m\u001b[0;34m\u001b[0m\u001b[0;34m\u001b[0m\u001b[0m\n",
            "\u001b[0;32m/usr/local/lib/python3.11/dist-packages/torch/nn/modules/module.py\u001b[0m in \u001b[0;36m_call_impl\u001b[0;34m(self, *args, **kwargs)\u001b[0m\n\u001b[1;32m   1748\u001b[0m                 \u001b[0;32mor\u001b[0m \u001b[0m_global_backward_pre_hooks\u001b[0m \u001b[0;32mor\u001b[0m \u001b[0m_global_backward_hooks\u001b[0m\u001b[0;34m\u001b[0m\u001b[0;34m\u001b[0m\u001b[0m\n\u001b[1;32m   1749\u001b[0m                 or _global_forward_hooks or _global_forward_pre_hooks):\n\u001b[0;32m-> 1750\u001b[0;31m             \u001b[0;32mreturn\u001b[0m \u001b[0mforward_call\u001b[0m\u001b[0;34m(\u001b[0m\u001b[0;34m*\u001b[0m\u001b[0margs\u001b[0m\u001b[0;34m,\u001b[0m \u001b[0;34m**\u001b[0m\u001b[0mkwargs\u001b[0m\u001b[0;34m)\u001b[0m\u001b[0;34m\u001b[0m\u001b[0;34m\u001b[0m\u001b[0m\n\u001b[0m\u001b[1;32m   1751\u001b[0m \u001b[0;34m\u001b[0m\u001b[0m\n\u001b[1;32m   1752\u001b[0m         \u001b[0mresult\u001b[0m \u001b[0;34m=\u001b[0m \u001b[0;32mNone\u001b[0m\u001b[0;34m\u001b[0m\u001b[0;34m\u001b[0m\u001b[0m\n",
            "\u001b[0;32m/usr/local/lib/python3.11/dist-packages/timm/models/vision_transformer.py\u001b[0m in \u001b[0;36mforward\u001b[0;34m(self, x)\u001b[0m\n\u001b[1;32m     86\u001b[0m     \u001b[0;32mdef\u001b[0m \u001b[0mforward\u001b[0m\u001b[0;34m(\u001b[0m\u001b[0mself\u001b[0m\u001b[0;34m,\u001b[0m \u001b[0mx\u001b[0m\u001b[0;34m:\u001b[0m \u001b[0mtorch\u001b[0m\u001b[0;34m.\u001b[0m\u001b[0mTensor\u001b[0m\u001b[0;34m)\u001b[0m \u001b[0;34m->\u001b[0m \u001b[0mtorch\u001b[0m\u001b[0;34m.\u001b[0m\u001b[0mTensor\u001b[0m\u001b[0;34m:\u001b[0m\u001b[0;34m\u001b[0m\u001b[0;34m\u001b[0m\u001b[0m\n\u001b[1;32m     87\u001b[0m         \u001b[0mB\u001b[0m\u001b[0;34m,\u001b[0m \u001b[0mN\u001b[0m\u001b[0;34m,\u001b[0m \u001b[0mC\u001b[0m \u001b[0;34m=\u001b[0m \u001b[0mx\u001b[0m\u001b[0;34m.\u001b[0m\u001b[0mshape\u001b[0m\u001b[0;34m\u001b[0m\u001b[0;34m\u001b[0m\u001b[0m\n\u001b[0;32m---> 88\u001b[0;31m         \u001b[0mqkv\u001b[0m \u001b[0;34m=\u001b[0m \u001b[0mself\u001b[0m\u001b[0;34m.\u001b[0m\u001b[0mqkv\u001b[0m\u001b[0;34m(\u001b[0m\u001b[0mx\u001b[0m\u001b[0;34m)\u001b[0m\u001b[0;34m.\u001b[0m\u001b[0mreshape\u001b[0m\u001b[0;34m(\u001b[0m\u001b[0mB\u001b[0m\u001b[0;34m,\u001b[0m \u001b[0mN\u001b[0m\u001b[0;34m,\u001b[0m \u001b[0;36m3\u001b[0m\u001b[0;34m,\u001b[0m \u001b[0mself\u001b[0m\u001b[0;34m.\u001b[0m\u001b[0mnum_heads\u001b[0m\u001b[0;34m,\u001b[0m \u001b[0mself\u001b[0m\u001b[0;34m.\u001b[0m\u001b[0mhead_dim\u001b[0m\u001b[0;34m)\u001b[0m\u001b[0;34m.\u001b[0m\u001b[0mpermute\u001b[0m\u001b[0;34m(\u001b[0m\u001b[0;36m2\u001b[0m\u001b[0;34m,\u001b[0m \u001b[0;36m0\u001b[0m\u001b[0;34m,\u001b[0m \u001b[0;36m3\u001b[0m\u001b[0;34m,\u001b[0m \u001b[0;36m1\u001b[0m\u001b[0;34m,\u001b[0m \u001b[0;36m4\u001b[0m\u001b[0;34m)\u001b[0m\u001b[0;34m\u001b[0m\u001b[0;34m\u001b[0m\u001b[0m\n\u001b[0m\u001b[1;32m     89\u001b[0m         \u001b[0mq\u001b[0m\u001b[0;34m,\u001b[0m \u001b[0mk\u001b[0m\u001b[0;34m,\u001b[0m \u001b[0mv\u001b[0m \u001b[0;34m=\u001b[0m \u001b[0mqkv\u001b[0m\u001b[0;34m.\u001b[0m\u001b[0munbind\u001b[0m\u001b[0;34m(\u001b[0m\u001b[0;36m0\u001b[0m\u001b[0;34m)\u001b[0m\u001b[0;34m\u001b[0m\u001b[0;34m\u001b[0m\u001b[0m\n\u001b[1;32m     90\u001b[0m         \u001b[0mq\u001b[0m\u001b[0;34m,\u001b[0m \u001b[0mk\u001b[0m \u001b[0;34m=\u001b[0m \u001b[0mself\u001b[0m\u001b[0;34m.\u001b[0m\u001b[0mq_norm\u001b[0m\u001b[0;34m(\u001b[0m\u001b[0mq\u001b[0m\u001b[0;34m)\u001b[0m\u001b[0;34m,\u001b[0m \u001b[0mself\u001b[0m\u001b[0;34m.\u001b[0m\u001b[0mk_norm\u001b[0m\u001b[0;34m(\u001b[0m\u001b[0mk\u001b[0m\u001b[0;34m)\u001b[0m\u001b[0;34m\u001b[0m\u001b[0;34m\u001b[0m\u001b[0m\n",
            "\u001b[0;32m/usr/local/lib/python3.11/dist-packages/torch/nn/modules/module.py\u001b[0m in \u001b[0;36m_wrapped_call_impl\u001b[0;34m(self, *args, **kwargs)\u001b[0m\n\u001b[1;32m   1737\u001b[0m             \u001b[0;32mreturn\u001b[0m \u001b[0mself\u001b[0m\u001b[0;34m.\u001b[0m\u001b[0m_compiled_call_impl\u001b[0m\u001b[0;34m(\u001b[0m\u001b[0;34m*\u001b[0m\u001b[0margs\u001b[0m\u001b[0;34m,\u001b[0m \u001b[0;34m**\u001b[0m\u001b[0mkwargs\u001b[0m\u001b[0;34m)\u001b[0m  \u001b[0;31m# type: ignore[misc]\u001b[0m\u001b[0;34m\u001b[0m\u001b[0;34m\u001b[0m\u001b[0m\n\u001b[1;32m   1738\u001b[0m         \u001b[0;32melse\u001b[0m\u001b[0;34m:\u001b[0m\u001b[0;34m\u001b[0m\u001b[0;34m\u001b[0m\u001b[0m\n\u001b[0;32m-> 1739\u001b[0;31m             \u001b[0;32mreturn\u001b[0m \u001b[0mself\u001b[0m\u001b[0;34m.\u001b[0m\u001b[0m_call_impl\u001b[0m\u001b[0;34m(\u001b[0m\u001b[0;34m*\u001b[0m\u001b[0margs\u001b[0m\u001b[0;34m,\u001b[0m \u001b[0;34m**\u001b[0m\u001b[0mkwargs\u001b[0m\u001b[0;34m)\u001b[0m\u001b[0;34m\u001b[0m\u001b[0;34m\u001b[0m\u001b[0m\n\u001b[0m\u001b[1;32m   1740\u001b[0m \u001b[0;34m\u001b[0m\u001b[0m\n\u001b[1;32m   1741\u001b[0m     \u001b[0;31m# torchrec tests the code consistency with the following code\u001b[0m\u001b[0;34m\u001b[0m\u001b[0;34m\u001b[0m\u001b[0m\n",
            "\u001b[0;32m/usr/local/lib/python3.11/dist-packages/torch/nn/modules/module.py\u001b[0m in \u001b[0;36m_call_impl\u001b[0;34m(self, *args, **kwargs)\u001b[0m\n\u001b[1;32m   1843\u001b[0m \u001b[0;34m\u001b[0m\u001b[0m\n\u001b[1;32m   1844\u001b[0m         \u001b[0;32mtry\u001b[0m\u001b[0;34m:\u001b[0m\u001b[0;34m\u001b[0m\u001b[0;34m\u001b[0m\u001b[0m\n\u001b[0;32m-> 1845\u001b[0;31m             \u001b[0;32mreturn\u001b[0m \u001b[0minner\u001b[0m\u001b[0;34m(\u001b[0m\u001b[0;34m)\u001b[0m\u001b[0;34m\u001b[0m\u001b[0;34m\u001b[0m\u001b[0m\n\u001b[0m\u001b[1;32m   1846\u001b[0m         \u001b[0;32mexcept\u001b[0m \u001b[0mException\u001b[0m\u001b[0;34m:\u001b[0m\u001b[0;34m\u001b[0m\u001b[0;34m\u001b[0m\u001b[0m\n\u001b[1;32m   1847\u001b[0m             \u001b[0;31m# run always called hooks if they have not already been run\u001b[0m\u001b[0;34m\u001b[0m\u001b[0;34m\u001b[0m\u001b[0m\n",
            "\u001b[0;32m/usr/local/lib/python3.11/dist-packages/torch/nn/modules/module.py\u001b[0m in \u001b[0;36minner\u001b[0;34m()\u001b[0m\n\u001b[1;32m   1791\u001b[0m                 \u001b[0margs\u001b[0m \u001b[0;34m=\u001b[0m \u001b[0mbw_hook\u001b[0m\u001b[0;34m.\u001b[0m\u001b[0msetup_input_hook\u001b[0m\u001b[0;34m(\u001b[0m\u001b[0margs\u001b[0m\u001b[0;34m)\u001b[0m\u001b[0;34m\u001b[0m\u001b[0;34m\u001b[0m\u001b[0m\n\u001b[1;32m   1792\u001b[0m \u001b[0;34m\u001b[0m\u001b[0m\n\u001b[0;32m-> 1793\u001b[0;31m             \u001b[0mresult\u001b[0m \u001b[0;34m=\u001b[0m \u001b[0mforward_call\u001b[0m\u001b[0;34m(\u001b[0m\u001b[0;34m*\u001b[0m\u001b[0margs\u001b[0m\u001b[0;34m,\u001b[0m \u001b[0;34m**\u001b[0m\u001b[0mkwargs\u001b[0m\u001b[0;34m)\u001b[0m\u001b[0;34m\u001b[0m\u001b[0;34m\u001b[0m\u001b[0m\n\u001b[0m\u001b[1;32m   1794\u001b[0m             \u001b[0;32mif\u001b[0m \u001b[0m_global_forward_hooks\u001b[0m \u001b[0;32mor\u001b[0m \u001b[0mself\u001b[0m\u001b[0;34m.\u001b[0m\u001b[0m_forward_hooks\u001b[0m\u001b[0;34m:\u001b[0m\u001b[0;34m\u001b[0m\u001b[0;34m\u001b[0m\u001b[0m\n\u001b[1;32m   1795\u001b[0m                 for hook_id, hook in (\n",
            "\u001b[0;32m/usr/local/lib/python3.11/dist-packages/torch/nn/modules/linear.py\u001b[0m in \u001b[0;36mforward\u001b[0;34m(self, input)\u001b[0m\n\u001b[1;32m    123\u001b[0m \u001b[0;34m\u001b[0m\u001b[0m\n\u001b[1;32m    124\u001b[0m     \u001b[0;32mdef\u001b[0m \u001b[0mforward\u001b[0m\u001b[0;34m(\u001b[0m\u001b[0mself\u001b[0m\u001b[0;34m,\u001b[0m \u001b[0minput\u001b[0m\u001b[0;34m:\u001b[0m \u001b[0mTensor\u001b[0m\u001b[0;34m)\u001b[0m \u001b[0;34m->\u001b[0m \u001b[0mTensor\u001b[0m\u001b[0;34m:\u001b[0m\u001b[0;34m\u001b[0m\u001b[0;34m\u001b[0m\u001b[0m\n\u001b[0;32m--> 125\u001b[0;31m         \u001b[0;32mreturn\u001b[0m \u001b[0mF\u001b[0m\u001b[0;34m.\u001b[0m\u001b[0mlinear\u001b[0m\u001b[0;34m(\u001b[0m\u001b[0minput\u001b[0m\u001b[0;34m,\u001b[0m \u001b[0mself\u001b[0m\u001b[0;34m.\u001b[0m\u001b[0mweight\u001b[0m\u001b[0;34m,\u001b[0m \u001b[0mself\u001b[0m\u001b[0;34m.\u001b[0m\u001b[0mbias\u001b[0m\u001b[0;34m)\u001b[0m\u001b[0;34m\u001b[0m\u001b[0;34m\u001b[0m\u001b[0m\n\u001b[0m\u001b[1;32m    126\u001b[0m \u001b[0;34m\u001b[0m\u001b[0m\n\u001b[1;32m    127\u001b[0m     \u001b[0;32mdef\u001b[0m \u001b[0mextra_repr\u001b[0m\u001b[0;34m(\u001b[0m\u001b[0mself\u001b[0m\u001b[0;34m)\u001b[0m \u001b[0;34m->\u001b[0m \u001b[0mstr\u001b[0m\u001b[0;34m:\u001b[0m\u001b[0;34m\u001b[0m\u001b[0;34m\u001b[0m\u001b[0m\n",
            "\u001b[0;31mKeyboardInterrupt\u001b[0m: "
          ]
        }
      ]
    },
    {
      "cell_type": "code",
      "execution_count": null,
      "metadata": {
        "colab": {
          "base_uri": "https://localhost:8080/",
          "height": 258
        },
        "id": "JGQsWyokm0hP",
        "outputId": "32ea5fcc-8c61-4c05-be25-471772506776"
      },
      "outputs": [
        {
          "ename": "NameError",
          "evalue": "name 'size_fp32_ln' is not defined",
          "output_type": "error",
          "traceback": [
            "\u001b[0;31m---------------------------------------------------------------------------\u001b[0m",
            "\u001b[0;31mNameError\u001b[0m                                 Traceback (most recent call last)",
            "\u001b[0;32m<ipython-input-38-8f4d9e3f49dd>\u001b[0m in \u001b[0;36m<cell line: 0>\u001b[0;34m()\u001b[0m\n\u001b[1;32m      6\u001b[0m         \u001b[0;34mf\"{acc_fp32_ln * 100:.2f}\"\u001b[0m\u001b[0;34m,\u001b[0m\u001b[0;34m\u001b[0m\u001b[0;34m\u001b[0m\u001b[0m\n\u001b[1;32m      7\u001b[0m         \u001b[0;34mf\"{0.0:.2f}\"\u001b[0m\u001b[0;34m,\u001b[0m\u001b[0;34m\u001b[0m\u001b[0;34m\u001b[0m\u001b[0m\n\u001b[0;32m----> 8\u001b[0;31m         \u001b[0;34mf\"{size_fp32_ln:.1f}\"\u001b[0m\u001b[0;34m,\u001b[0m\u001b[0;34m\u001b[0m\u001b[0;34m\u001b[0m\u001b[0m\n\u001b[0m\u001b[1;32m      9\u001b[0m         \u001b[0;34mf\"{0.0:.1f}\"\u001b[0m\u001b[0;34m,\u001b[0m\u001b[0;34m\u001b[0m\u001b[0;34m\u001b[0m\u001b[0m\n\u001b[1;32m     10\u001b[0m         \u001b[0;34mf\"{lat_fp32_ln:.1f}\"\u001b[0m\u001b[0;34m\u001b[0m\u001b[0;34m\u001b[0m\u001b[0m\n",
            "\u001b[0;31mNameError\u001b[0m: name 'size_fp32_ln' is not defined"
          ]
        }
      ],
      "source": [
        "from tabulate import tabulate\n",
        "\n",
        "# 1) Prepare table rows for FP32 vs Dynamic‑INT8\n",
        "rows = [\n",
        "    [\n",
        "        \"ViT‑LN\",\n",
        "        \"FP32\",\n",
        "        f\"{acc_fp32 * 100:.2f}\",\n",
        "        \"0.00\",\n",
        "        f\"{size_fp32:.1f}\",\n",
        "        \"0.0\",\n",
        "        f\"{lat_fp32:.1f}\"\n",
        "    ],\n",
        "    [\n",
        "        \"ViT‑LN\",\n",
        "        \"Dyn‑INT8\",\n",
        "        f\"{acc_dyn * 100:.2f}\",\n",
        "        f\"{(acc_dyn - acc_fp32) * 100:.2f}\",\n",
        "        f\"{size_dyn:.1f}\",\n",
        "        f\"{(size_dyn - size_fp32) / size_fp32 * 100:.1f}\",\n",
        "        f\"{lat_dyn:.1f}\"\n",
        "    ],\n",
        "]\n",
        "\n",
        "# 2) Column headers\n",
        "headers = [\n",
        "    \"Model\", \"Format\", \"Test Acc %\", \"ΔAcc %\",\n",
        "    \"Size (MB)\", \"ΔSize %\", \"Latency (ms)\"\n",
        "]\n",
        "\n",
        "# 3) Print the heading and table\n",
        "print_heading(\"Table\", 3, \"FP32 vs. Dynamic INT8 Quantization Results\")\n",
        "print(tabulate(rows, headers=headers, tablefmt=\"github\"))"
      ]
    },
    {
      "cell_type": "code",
      "execution_count": null,
      "metadata": {
        "id": "LxdXL-27mKLV"
      },
      "outputs": [],
      "source": [
        "import matplotlib.pyplot as plt\n",
        "import numpy as np\n",
        "\n",
        "# Filter only the INT8 rows\n",
        "mask = df[\"Format\"] == \"INT8\"\n",
        "models    = df.loc[mask, \"Model\"].tolist()\n",
        "acc_drops = df.loc[mask, \"ΔAcc %\"].astype(float).tolist()\n",
        "size_reds = df.loc[mask, \"ΔSize %\"].astype(float).tolist()\n",
        "\n",
        "x = np.arange(len(models))\n",
        "width = 0.4\n",
        "\n",
        "fig, ax = plt.subplots(figsize=(6,4))\n",
        "ax.bar(x - width/2, acc_drops, width, label=\"Accuracy drop (%)\")\n",
        "ax.bar(x + width/2, size_reds, width, label=\"Size reduction (%)\")\n",
        "ax.set_xticks(x)\n",
        "ax.set_xticklabels(models)\n",
        "ax.set_ylabel(\"Percentage (%)\")\n",
        "ax.set_title(\"Figure 4. INT8: Accuracy drop vs Size reduction\")\n",
        "ax.legend()\n",
        "ax.grid(axis=\"y\", linestyle=\"--\", alpha=0.6)\n",
        "plt.tight_layout()\n",
        "plt.savefig(\"figure4_acc_vs_size.png\", dpi=150)\n",
        "plt.show()"
      ]
    },
    {
      "cell_type": "markdown",
      "source": [
        "## 4 - Benchmarking & Comparison"
      ],
      "metadata": {
        "id": "8NjYZqNZLqTA"
      }
    }
  ],
  "metadata": {
    "accelerator": "GPU",
    "colab": {
      "gpuType": "A100",
      "machine_shape": "hm",
      "provenance": []
    },
    "kernelspec": {
      "display_name": "Python 3",
      "name": "python3"
    },
    "language_info": {
      "name": "python"
    }
  },
  "nbformat": 4,
  "nbformat_minor": 0
}