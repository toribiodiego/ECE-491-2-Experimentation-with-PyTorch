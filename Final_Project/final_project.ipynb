{
  "nbformat": 4,
  "nbformat_minor": 0,
  "metadata": {
    "colab": {
      "provenance": [],
      "machine_shape": "hm",
      "gpuType": "T4"
    },
    "kernelspec": {
      "name": "python3",
      "display_name": "Python 3"
    },
    "language_info": {
      "name": "python"
    },
    "accelerator": "GPU"
  },
  "cells": [
    {
      "cell_type": "code",
      "source": [
        "!pip install transformers datasets evaluate timm captum --quiet"
      ],
      "metadata": {
        "collapsed": true,
        "id": "n17CtydqmrFs"
      },
      "execution_count": 21,
      "outputs": []
    },
    {
      "cell_type": "code",
      "source": [
        "import os\n",
        "# 1) Early opt‑out for the env var\n",
        "os.environ[\"HF_DATASETS_DISABLE_PROGRESS_BARS\"] = \"1\"\n",
        "\n",
        "import random\n",
        "import torch\n",
        "import numpy as np\n",
        "from datasets import load_dataset\n",
        "from torch.utils.data import DataLoader\n",
        "from torchvision import transforms\n",
        "from PIL import Image\n",
        "from io import BytesIO\n",
        "import torch.nn as nn\n",
        "from transformers import get_cosine_schedule_with_warmup\n",
        "import timm\n",
        "from torch.optim import AdamW\n",
        "\n",
        "\n",
        "# 1) Fix seeds\n",
        "seed = 42\n",
        "random.seed(seed)\n",
        "np.random.seed(seed)\n",
        "torch.manual_seed(seed)\n",
        "torch.cuda.manual_seed_all(seed)\n",
        "\n",
        "\n",
        "# 2) Config\n",
        "config = {\n",
        "    \"dataset_name\":     \"cifar100\",\n",
        "    \"num_labels\":       100,\n",
        "    \"train_frac\":       0.80,\n",
        "    \"val_frac\":         0.10,\n",
        "    \"holdout_frac\":     0.10,\n",
        "    \"batch_size_train\": 128,\n",
        "    \"batch_size_val\":   256,\n",
        "    \"max_epochs\":       25,\n",
        "    \"patience\":         5,\n",
        "    \"warmup_epochs\":    3,\n",
        "    \"lr\":               5e-5,\n",
        "    \"weight_decay\":     0.05,\n",
        "    \"output_dir\":       \"./vit-cifar100-checkpoints\",\n",
        "}\n",
        "os.makedirs(config[\"output_dir\"], exist_ok=True)\n",
        "\n",
        "device = torch.device(\"cuda\" if torch.cuda.is_available() else \"cpu\")"
      ],
      "metadata": {
        "id": "PSX-17sA4dXN"
      },
      "execution_count": 18,
      "outputs": []
    },
    {
      "cell_type": "code",
      "source": [
        "# 1) Load & split\n",
        "ds = load_dataset(config[\"dataset_name\"])[\"train\"]\n",
        "split1 = ds.train_test_split(test_size=config[\"holdout_frac\"], seed=seed)\n",
        "tmp, holdout_ds = split1[\"train\"], split1[\"test\"]\n",
        "\n",
        "val_prop = config[\"val_frac\"] / (config[\"train_frac\"] + config[\"val_frac\"])\n",
        "split2   = tmp.train_test_split(test_size=val_prop, seed=seed)\n",
        "train_ds, val_ds = split2[\"train\"], split2[\"test\"]\n",
        "\n",
        "# 2) Transforms\n",
        "train_tf = transforms.Compose([\n",
        "    transforms.RandomResizedCrop(224),\n",
        "    transforms.RandomHorizontalFlip(),\n",
        "    transforms.ColorJitter(0.4, 0.4, 0.4, 0.1),\n",
        "    transforms.ToTensor(),\n",
        "    transforms.Normalize((0.485,0.456,0.406),(0.229,0.224,0.225))\n",
        "])\n",
        "eval_tf = transforms.Compose([\n",
        "    transforms.Resize(256),\n",
        "    transforms.CenterCrop(224),\n",
        "    transforms.ToTensor(),\n",
        "    transforms.Normalize((0.485,0.456,0.406),(0.229,0.224,0.225))\n",
        "])\n",
        "\n",
        "# 3) Robust preprocess helper\n",
        "def preprocess(example, train=True):\n",
        "    img = example[\"img\"]\n",
        "    if isinstance(img, (bytes, bytearray)):\n",
        "        img = Image.open(BytesIO(img))\n",
        "    if isinstance(img, list):\n",
        "        img = img[0]\n",
        "        if isinstance(img, (bytes, bytearray)):\n",
        "            img = Image.open(BytesIO(img))\n",
        "    if not isinstance(img, Image.Image):\n",
        "        img = Image.fromarray(img)\n",
        "    img = img.convert(\"RGB\")\n",
        "    example[\"pixel_values\"] = (train and train_tf or eval_tf)(img)\n",
        "    example[\"labels\"] = example[\"fine_label\"]\n",
        "    return example\n",
        "\n",
        "# 4) Map & format (no progress bars will appear)\n",
        "train_ds   = train_ds.map(lambda x: preprocess(x, True),    remove_columns=[\"img\"])\n",
        "val_ds     = val_ds.map(lambda x:   preprocess(x, False),   remove_columns=[\"img\"])\n",
        "holdout_ds = holdout_ds.map(lambda x: preprocess(x, False), remove_columns=[\"img\"])\n",
        "for d in (train_ds, val_ds, holdout_ds):\n",
        "    d.set_format(\"torch\", columns=[\"pixel_values\",\"labels\"])\n",
        "\n",
        "# 5) Dataloaders\n",
        "train_loader   = DataLoader(train_ds,    batch_size=config[\"batch_size_train\"],\n",
        "                            shuffle=True,  num_workers=4)\n",
        "val_loader     = DataLoader(val_ds,      batch_size=config[\"batch_size_val\"],\n",
        "                            shuffle=False, num_workers=4)\n",
        "holdout_loader = DataLoader(holdout_ds,  batch_size=config[\"batch_size_val\"],\n",
        "                            shuffle=False, num_workers=4)\n",
        "\n",
        "print(f\"Train/Val/Holdout sizes: {len(train_ds)}/{len(val_ds)}/{len(holdout_ds)}\")"
      ],
      "metadata": {
        "colab": {
          "base_uri": "https://localhost:8080/"
        },
        "id": "4kJRlRvXm2Jg",
        "outputId": "cabb4c03-556c-44eb-cdd9-141a1738890b"
      },
      "execution_count": 15,
      "outputs": [
        {
          "output_type": "stream",
          "name": "stdout",
          "text": [
            "Train/Val/Holdout sizes: 40000/5000/5000\n"
          ]
        }
      ]
    },
    {
      "cell_type": "markdown",
      "source": [
        "# Base Model"
      ],
      "metadata": {
        "id": "cvTvPM1QJ8-w"
      }
    },
    {
      "cell_type": "markdown",
      "source": [
        "## 1 - Fine-tuning"
      ],
      "metadata": {
        "id": "ugZlOLFb1DNq"
      }
    },
    {
      "cell_type": "code",
      "source": [
        "# 1) Model init (swap in your DyT version here when ready)\n",
        "model = timm.create_model(\"vit_base_patch16_224\", pretrained=True, num_classes=config[\"num_labels\"])\n",
        "model.to(device)\n",
        "\n",
        "# 2) Optimizer, loss, mixed‑precision scaler\n",
        "optimizer = AdamW(model.parameters(), lr=config[\"lr\"], weight_decay=config[\"weight_decay\"])\n",
        "criterion = nn.CrossEntropyLoss()\n",
        "scaler    = torch.cuda.amp.GradScaler()\n",
        "\n",
        "# 3) LR schedule: warmup → cosine decay\n",
        "total_steps   = len(train_loader) * config[\"max_epochs\"]\n",
        "warmup_steps  = len(train_loader) * config[\"warmup_epochs\"]\n",
        "scheduler     = get_cosine_schedule_with_warmup(\n",
        "    optimizer,\n",
        "    num_warmup_steps=warmup_steps,\n",
        "    num_training_steps=total_steps\n",
        ")\n",
        "\n",
        "# 4) Training + early stopping\n",
        "best_val_acc, wait = 0.0, 0\n",
        "for epoch in range(1, config[\"max_epochs\"]+1):\n",
        "    # — train\n",
        "    model.train()\n",
        "    running_loss = 0.0\n",
        "    for batch in train_loader:\n",
        "        inputs, labels = batch[\"pixel_values\"].to(device), batch[\"labels\"].to(device)\n",
        "        optimizer.zero_grad()\n",
        "        with torch.cuda.amp.autocast():\n",
        "            logits = model(inputs)\n",
        "            loss   = criterion(logits, labels)\n",
        "        scaler.scale(loss).backward()\n",
        "        scaler.step(optimizer)\n",
        "        scaler.update()\n",
        "        scheduler.step()\n",
        "        running_loss += loss.item()\n",
        "    avg_train_loss = running_loss / len(train_loader)\n",
        "\n",
        "    # — validate\n",
        "    model.eval()\n",
        "    correct = total = 0\n",
        "    with torch.no_grad():\n",
        "        for batch in val_loader:\n",
        "            inputs, labels = batch[\"pixel_values\"].to(device), batch[\"labels\"].to(device)\n",
        "            preds = model(inputs).argmax(dim=-1)\n",
        "            correct += (preds == labels).sum().item()\n",
        "            total   += labels.size(0)\n",
        "    val_acc = correct / total\n",
        "\n",
        "    print(f\"Epoch {epoch:02d} | Train Loss: {avg_train_loss:.4f} | Val Acc: {val_acc:.4f}\")\n",
        "\n",
        "    # — early stop & checkpoint\n",
        "    if val_acc > best_val_acc:\n",
        "        best_val_acc, wait = val_acc, 0\n",
        "        ckpt_path = os.path.join(config[\"output_dir\"], \"best_val_acc.pt\")\n",
        "        torch.save(model.state_dict(), ckpt_path)\n",
        "        print(f\" → new best, saved to {ckpt_path}\")\n",
        "    else:\n",
        "        wait += 1\n",
        "        if wait >= config[\"patience\"]:\n",
        "            print(\"Early stopping triggered.\")\n",
        "            break"
      ],
      "metadata": {
        "id": "uNlHSvB93jSd",
        "collapsed": true
      },
      "execution_count": null,
      "outputs": []
    },
    {
      "cell_type": "markdown",
      "source": [
        "## 2 - Interpretability"
      ],
      "metadata": {
        "id": "Lf6-UAFeJj-2"
      }
    },
    {
      "cell_type": "code",
      "source": [
        "# Cell Z: Attention‑entropy via direct hook on Attention.forward\n",
        "import os, torch\n",
        "import torch.nn.functional as F\n",
        "import matplotlib.pyplot as plt\n",
        "import timm\n",
        "\n",
        "device = torch.device(\"cuda\" if torch.cuda.is_available() else \"cpu\")\n",
        "\n",
        "# 1) Load your best‐val checkpoint\n",
        "model_ln = timm.create_model(\"vit_base_patch16_224\", pretrained=False, num_classes=config[\"num_labels\"])\n",
        "model_ln.load_state_dict(torch.load(os.path.join(config[\"output_dir\"], \"best_val_acc.pt\")))\n",
        "model_ln.eval().to(device)\n",
        "\n",
        "# 2) Prepare accumulators\n",
        "num_layers  = len(model_ln.blocks)\n",
        "entropy_sum = torch.zeros(num_layers)\n",
        "sample_cnt  = torch.zeros(num_layers)\n",
        "eps = 1e-12\n",
        "\n",
        "# 3) Hook that re‐computes attention inside each block\n",
        "def make_hook(layer_idx):\n",
        "    def hook(module, inp, out):\n",
        "        # inp[0] is the block input x: [B, N, C]\n",
        "        x = inp[0]\n",
        "        B, N, C = x.shape\n",
        "        # produce q, k\n",
        "        qkv = module.qkv(x)                                    # [B, N, 3*C]\n",
        "        head_dim = C // module.num_heads\n",
        "        qkv = qkv.reshape(B, N, 3, module.num_heads, head_dim) # [B,N,3,heads,hd]\n",
        "        qkv = qkv.permute(2, 0, 3, 1, 4)                       # [3,B,heads,N,hd]\n",
        "        q, k, v = qkv[0], qkv[1], qkv[2]                       # each [B,heads,N,hd]\n",
        "        # scaled dot‐product\n",
        "        attn = (q @ k.transpose(-2, -1)) * module.scale       # [B,heads,N,N]\n",
        "        attn = attn.softmax(dim=-1)                           # probabilities\n",
        "        # extract class‐token row\n",
        "        cls_attn = attn[:, :, 0, :]                           # [B, heads, N]\n",
        "        # entropy per head per sample\n",
        "        ent = -(cls_attn * (cls_attn + eps).log()).sum(-1)    # [B, heads]\n",
        "        entropy_sum[layer_idx] += ent.sum().cpu()\n",
        "        sample_cnt[layer_idx]  += ent.numel()\n",
        "    return hook\n",
        "\n",
        "# 4) Register hooks on each Attention module\n",
        "hooks = []\n",
        "for i, blk in enumerate(model_ln.blocks):\n",
        "    hooks.append(blk.attn.register_forward_hook(make_hook(i)))\n",
        "\n",
        "# 5) Run a forward pass on the validation set (no grad)\n",
        "with torch.no_grad():\n",
        "    for batch in val_loader:\n",
        "        imgs = batch[\"pixel_values\"].to(device)\n",
        "        _ = model_ln(imgs)\n",
        "\n",
        "# 6) Clean up hooks and compute mean entropy\n",
        "for h in hooks: h.remove()\n",
        "mean_entropy = entropy_sum / sample_cnt  # shape [num_layers]\n",
        "\n",
        "# 7) Plot\n",
        "layers = list(range(1, num_layers+1))\n",
        "plt.figure(figsize=(6,4))\n",
        "plt.plot(layers, mean_entropy.numpy(), marker=\"o\", linewidth=2)\n",
        "plt.xlabel(\"Transformer block\")\n",
        "plt.ylabel(\"Mean attention entropy (CLS → tokens)\")\n",
        "plt.title(\"ViT‑LN (FP32) Attention Entropy\")\n",
        "plt.grid(True)\n",
        "plt.tight_layout()\n",
        "plt.savefig(\"attention_entropy_ln_fp32.png\", dpi=150)\n",
        "plt.show()"
      ],
      "metadata": {
        "id": "Ogfd3A6JFlC_",
        "colab": {
          "base_uri": "https://localhost:8080/",
          "height": 408
        },
        "outputId": "7ceb31fd-3765-405c-b0cf-93fed1a1d0de"
      },
      "execution_count": 17,
      "outputs": [
        {
          "output_type": "display_data",
          "data": {
            "text/plain": [
              "<Figure size 600x400 with 1 Axes>"
            ],
            "image/png": "[encoded data removed]"
          },
          "metadata": {}
        }
      ]
    },
    {
      "cell_type": "code",
      "source": [
        "import os\n",
        "import torch\n",
        "import numpy as np\n",
        "from torch.utils.data import DataLoader\n",
        "from captum.attr import Saliency\n",
        "import timm\n",
        "\n",
        "def load_fp32_models(ckpt_path, num_labels, device):\n",
        "    \"\"\"\n",
        "    Returns a tuple (model_gpu, model_cpu, saliency_cpu).\n",
        "    - model_gpu: loaded on `device`, used for forward → pred\n",
        "    - model_cpu: loaded on CPU, used for saliency backward\n",
        "    - saliency_cpu: Captum Saliency wrapped around model_cpu\n",
        "    \"\"\"\n",
        "    # instantiate both\n",
        "    model_gpu = timm.create_model(\n",
        "        \"vit_base_patch16_224\", pretrained=False, num_classes=num_labels\n",
        "    )\n",
        "    model_cpu = timm.create_model(\n",
        "        \"vit_base_patch16_224\", pretrained=False, num_classes=num_labels\n",
        "    )\n",
        "    # load checkpoint onto CPU\n",
        "    state = torch.load(ckpt_path, map_location=\"cpu\")\n",
        "    model_gpu.load_state_dict(state)\n",
        "    model_cpu.load_state_dict(state)\n",
        "    # free raw state dict\n",
        "    del state\n",
        "    torch.cuda.empty_cache()\n",
        "    # move GPU model to device\n",
        "    model_gpu.eval().to(device)\n",
        "    # keep CPU model on cpu\n",
        "    model_cpu.eval().to(\"cpu\")\n",
        "    saliency_cpu = Saliency(model_cpu)\n",
        "    return model_gpu, model_cpu, saliency_cpu\n",
        "\n",
        "def compute_fp32_focus(\n",
        "    ckpt_path,\n",
        "    val_ds,\n",
        "    device,\n",
        "    max_images=500,\n",
        "    pct=0.05,\n",
        "    num_workers=2\n",
        "):\n",
        "    \"\"\"\n",
        "    Computes saliency‐density focus scores for the FP32 model.\n",
        "    Returns (mean_focus, std_focus).\n",
        "    \"\"\"\n",
        "    # 1) Prepare models & saliency\n",
        "    model_gpu, model_cpu, saliency_cpu = load_fp32_models(\n",
        "        ckpt_path, num_labels=config[\"num_labels\"], device=device\n",
        "    )\n",
        "\n",
        "    # 2) Single‐image DataLoader\n",
        "    loader = DataLoader(val_ds, batch_size=1, shuffle=False, num_workers=num_workers)\n",
        "\n",
        "    # 3) Loop & accumulate\n",
        "    focus_scores = []\n",
        "    processed = 0\n",
        "    for batch in loader:\n",
        "        inp_gpu = batch[\"pixel_values\"].to(device)\n",
        "        with torch.no_grad():\n",
        "            out  = model_gpu(inp_gpu)\n",
        "            pred = out.argmax(dim=-1).cpu()\n",
        "\n",
        "        inp_cpu = inp_gpu.cpu().detach().requires_grad_()\n",
        "        grad_cpu = saliency_cpu.attribute(inp_cpu, target=pred)\n",
        "\n",
        "        sal_map = grad_cpu.abs().max(1)[0].squeeze(0).numpy()\n",
        "        flat    = sal_map.ravel()\n",
        "        thr     = np.percentile(flat, 100*(1-pct))\n",
        "        focus_scores.append((flat >= thr).sum() / flat.size)\n",
        "\n",
        "        processed += 1\n",
        "        if processed >= max_images:\n",
        "            break\n",
        "\n",
        "    # 4) Compute stats\n",
        "    mean_focus = np.mean(focus_scores)\n",
        "    std_focus  = np.std(focus_scores)\n",
        "    return mean_focus, std_focus"
      ],
      "metadata": {
        "id": "lqqPvI54kuwJ"
      },
      "execution_count": null,
      "outputs": []
    },
    {
      "cell_type": "code",
      "source": [
        "ckpt_path = os.path.join(config[\"output_dir\"], \"best_val_acc.pt\")\n",
        "mean_fp32, std_fp32 = compute_fp32_focus(ckpt_path, val_ds, device)\n",
        "\n",
        "print(f\"Processed up to {min(len(val_ds), 500)} images\")\n",
        "print(f\"FP32 focus (top {int(0.05*100)}% pixels): {mean_fp32:.4f} ± {std_fp32:.4f}\")"
      ],
      "metadata": {
        "colab": {
          "base_uri": "https://localhost:8080/"
        },
        "id": "-ih4PIpFgPMA",
        "outputId": "bf4cf2ff-91cb-40b0-8e20-b084f7a94695"
      },
      "execution_count": 32,
      "outputs": [
        {
          "output_type": "stream",
          "name": "stdout",
          "text": [
            "Processed 500 images\n",
            "ViT‑LN FP32 focus (top 5% pixels): 0.0500 ± 0.0000\n"
          ]
        }
      ]
    }
  ]
}